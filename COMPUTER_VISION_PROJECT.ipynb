{
  "nbformat": 4,
  "nbformat_minor": 0,
  "metadata": {
    "colab": {
      "name": "COMPUTER_VISION_PROJECT.ipynb",
      "version": "0.3.2",
      "provenance": [],
      "collapsed_sections": [],
      "toc_visible": true,
      "include_colab_link": true
    },
    "kernelspec": {
      "name": "python3",
      "display_name": "Python 3"
    }
  },
  "cells": [
    {
      "cell_type": "markdown",
      "metadata": {
        "id": "view-in-github",
        "colab_type": "text"
      },
      "source": [
        "<a href=\"https://colab.research.google.com/github/sequedakarina/SIENDO-TUS-OJOS/blob/master/COMPUTER_VISION_PROJECT.ipynb\" target=\"_parent\"><img src=\"https://colab.research.google.com/assets/colab-badge.svg\" alt=\"Open In Colab\"/></a>"
      ]
    },
    {
      "cell_type": "code",
      "metadata": {
        "id": "K3-_XffFrj01",
        "colab_type": "code",
        "outputId": "478132ae-c43f-4b9c-8fe5-19ba132a86aa",
        "colab": {
          "base_uri": "https://localhost:8080/",
          "height": 54
        }
      },
      "source": [
        "from google.colab import drive\n",
        "drive.mount('/content/drive')\n",
        "\n",
        "#Librerias \n",
        "import pandas as pd\n",
        "import numpy as np\n",
        "import matplotlib.pyplot as plt\n",
        "import cv2\n",
        "import tensorflow as tf\n",
        "from tensorflow import keras\n",
        "import numpy as np\n",
        "import pandas as pd\n",
        "import matplotlib.pyplot as plt\n",
        "from keras.utils import np_utils\n",
        "from tensorflow.keras.models import load_model\n",
        "import h5py\n",
        "from keras.utils import CustomObjectScope\n",
        "from keras.initializers import glorot_uniform\n",
        "import os\n",
        "import sys\n",
        "from ipywidgets import interact, interactive, fixed, interact_manual\n",
        "import ipywidgets as widgets\n",
        "from gtts import gTTS\n",
        "from io import BytesIO\n"
      ],
      "execution_count": 14,
      "outputs": [
        {
          "output_type": "stream",
          "text": [
            "Drive already mounted at /content/drive; to attempt to forcibly remount, call drive.mount(\"/content/drive\", force_remount=True).\n"
          ],
          "name": "stdout"
        }
      ]
    },
    {
      "cell_type": "code",
      "metadata": {
        "id": "WBpC9k4vlfGJ",
        "colab_type": "code",
        "outputId": "81d0cfc2-dec9-498e-91c6-9e0b15438386",
        "colab": {
          "base_uri": "https://localhost:8080/",
          "height": 224
        }
      },
      "source": [
        "pip install gTTs"
      ],
      "execution_count": 15,
      "outputs": [
        {
          "output_type": "stream",
          "text": [
            "Requirement already satisfied: gTTs in /usr/local/lib/python3.6/dist-packages (2.0.3)\n",
            "Requirement already satisfied: bs4 in /usr/local/lib/python3.6/dist-packages (from gTTs) (0.0.1)\n",
            "Requirement already satisfied: requests in /usr/local/lib/python3.6/dist-packages (from gTTs) (2.21.0)\n",
            "Requirement already satisfied: six in /usr/local/lib/python3.6/dist-packages (from gTTs) (1.12.0)\n",
            "Requirement already satisfied: click in /usr/local/lib/python3.6/dist-packages (from gTTs) (7.0)\n",
            "Requirement already satisfied: gtts-token in /usr/local/lib/python3.6/dist-packages (from gTTs) (1.1.3)\n",
            "Requirement already satisfied: beautifulsoup4 in /usr/local/lib/python3.6/dist-packages (from bs4->gTTs) (4.6.3)\n",
            "Requirement already satisfied: certifi>=2017.4.17 in /usr/local/lib/python3.6/dist-packages (from requests->gTTs) (2019.6.16)\n",
            "Requirement already satisfied: idna<2.9,>=2.5 in /usr/local/lib/python3.6/dist-packages (from requests->gTTs) (2.8)\n",
            "Requirement already satisfied: chardet<3.1.0,>=3.0.2 in /usr/local/lib/python3.6/dist-packages (from requests->gTTs) (3.0.4)\n",
            "Requirement already satisfied: urllib3<1.25,>=1.21.1 in /usr/local/lib/python3.6/dist-packages (from requests->gTTs) (1.24.3)\n"
          ],
          "name": "stdout"
        }
      ]
    },
    {
      "cell_type": "markdown",
      "metadata": {
        "id": "Fss0wk2EwIeg",
        "colab_type": "text"
      },
      "source": [
        "# **RED NEURONAL**"
      ]
    },
    {
      "cell_type": "code",
      "metadata": {
        "id": "0HdESNbtsQPn",
        "colab_type": "code",
        "colab": {}
      },
      "source": [
        "#Carga de datasets\n",
        "X= pd.read_csv(\"drive/My Drive/Colab Notebooks/Datos.csv\", header=None).values.astype(float)"
      ],
      "execution_count": 0,
      "outputs": []
    },
    {
      "cell_type": "code",
      "metadata": {
        "id": "Q78BRdSNsUho",
        "colab_type": "code",
        "colab": {}
      },
      "source": [
        "y= pd.read_csv(\"drive/My Drive/Colab Notebooks/labels.csv\", header=None).values"
      ],
      "execution_count": 0,
      "outputs": []
    },
    {
      "cell_type": "code",
      "metadata": {
        "id": "FbPjg0lUsXIw",
        "colab_type": "code",
        "outputId": "daa1206f-5846-4929-a244-84ff49e2febb",
        "colab": {
          "base_uri": "https://localhost:8080/",
          "height": 34
        }
      },
      "source": [
        "print ('Caracteristicas de Train:',X.shape, type(X))"
      ],
      "execution_count": 18,
      "outputs": [
        {
          "output_type": "stream",
          "text": [
            "Caracteristicas de Train: (832, 784) <class 'numpy.ndarray'>\n"
          ],
          "name": "stdout"
        }
      ]
    },
    {
      "cell_type": "code",
      "metadata": {
        "id": "OwF76L5qsazI",
        "colab_type": "code",
        "outputId": "f4801bc3-da8c-405a-fda3-622cc71a97b0",
        "colab": {
          "base_uri": "https://localhost:8080/",
          "height": 94
        }
      },
      "source": [
        "#Visualizar algunos datos\n",
        "\n",
        "perm = np.random.permutation(range(X.shape[0]))[0:10]\n",
        "random_imgs   = X[perm]\n",
        "random_labels = y[perm] \n",
        "fig = plt.figure(figsize=(30,30))\n",
        "print \n",
        "for i in range(random_imgs.shape[0]):\n",
        "    ax=fig.add_subplot(2,32,i+1)\n",
        "    plt.imshow(random_imgs[i].reshape(28,28), interpolation=\"nearest\", cmap = plt.cm.Greys_r)\n",
        "    ax.set_title(int(random_labels[i]))\n",
        "    ax.set_xticklabels([])\n",
        "    ax.set_yticklabels([])\n",
        "    "
      ],
      "execution_count": 19,
      "outputs": [
        {
          "output_type": "display_data",
          "data": {
            "image/png": "[encoded data removed]",
            "text/plain": [
              "<Figure size 2160x2160 with 10 Axes>"
            ]
          },
          "metadata": {
            "tags": []
          }
        }
      ]
    },
    {
      "cell_type": "code",
      "metadata": {
        "id": "pEeEAgA8spLj",
        "colab_type": "code",
        "outputId": "3e5a7b61-bb83-458e-c903-4e108bb521e1",
        "colab": {
          "base_uri": "https://localhost:8080/",
          "height": 459
        }
      },
      "source": [
        "#Balanceo de clases:\n",
        "#Cantiadad de datos por cada clase-test \n",
        "for i in np.unique(y):\n",
        "    print (i, np.sum(y==i)),"
      ],
      "execution_count": 20,
      "outputs": [
        {
          "output_type": "stream",
          "text": [
            "1.0 30\n",
            "2.0 32\n",
            "3.0 32\n",
            "4.0 32\n",
            "5.0 32\n",
            "6.0 32\n",
            "7.0 32\n",
            "8.0 32\n",
            "9.0 32\n",
            "10.0 32\n",
            "11.0 32\n",
            "12.0 31\n",
            "13.0 32\n",
            "14.0 32\n",
            "15.0 33\n",
            "16.0 32\n",
            "17.0 33\n",
            "18.0 32\n",
            "19.0 33\n",
            "20.0 32\n",
            "21.0 32\n",
            "22.0 32\n",
            "23.0 32\n",
            "24.0 32\n",
            "25.0 32\n",
            "26.0 32\n"
          ],
          "name": "stdout"
        }
      ]
    },
    {
      "cell_type": "code",
      "metadata": {
        "colab_type": "code",
        "id": "cmYsfHna3puE",
        "colab": {}
      },
      "source": [
        "#Permutación-datos\n",
        "perm = np.random.permutation(range(X.shape[0]))\n",
        "X=X[perm]\n",
        "y=y[perm]"
      ],
      "execution_count": 0,
      "outputs": []
    },
    {
      "cell_type": "code",
      "metadata": {
        "colab_type": "code",
        "id": "qswZAaln3pt_",
        "colab": {}
      },
      "source": [
        "#El -1 es para indexar la imagen \n",
        "X = X.reshape([-1, 28,28,1])\n",
        "X= X.astype('float32')\n",
        "# Normalizar de 0-255 a  0-1\n",
        "X= X / 255"
      ],
      "execution_count": 0,
      "outputs": []
    },
    {
      "cell_type": "code",
      "metadata": {
        "colab_type": "code",
        "id": "cSXQ-eeh3pty",
        "colab": {}
      },
      "source": [
        "from sklearn.model_selection import train_test_split\n",
        "X_train, X_test, y_train, y_test = train_test_split(X,y, test_size=.2)\n",
        "\n",
        "\n",
        "# one hot encode outputs\n",
        "\n",
        "y_train = np_utils.to_categorical(y_train)\n",
        "y_test = np_utils.to_categorical(y_test)\n",
        "num_classes = y_test.shape[1]"
      ],
      "execution_count": 0,
      "outputs": []
    },
    {
      "cell_type": "code",
      "metadata": {
        "id": "H8dEDNBn-GE3",
        "colab_type": "code",
        "outputId": "8fded170-19ae-4398-cb2d-744dd9932b96",
        "colab": {
          "base_uri": "https://localhost:8080/",
          "height": 1000
        }
      },
      "source": [
        "\n",
        "#Crear modelo\n",
        "model_CNN3 =  keras.models.Sequential()\n",
        "model_CNN3.add(keras.layers.Conv2D(30, (5,5), activation='relu', kernel_initializer='he_uniform', padding='same', input_shape=(28, 28, 1)))\n",
        "model_CNN3.add(keras.layers.MaxPooling2D((2, 2)))\n",
        "model_CNN3.add(keras.layers.Conv2D(15, (3, 3), activation='relu', kernel_initializer='he_uniform', padding='same'))\n",
        "model_CNN3.add(keras.layers.MaxPooling2D((2, 2)))\n",
        "model_CNN3.add(keras.layers.Dropout(0.2))\n",
        "model_CNN3.add(keras.layers.Flatten())\n",
        "model_CNN3.add(keras.layers.Dense(128, activation='relu', kernel_initializer='he_uniform'))\n",
        "model_CNN3.add(keras.layers.Dense(50, activation='relu', kernel_initializer='he_uniform'))\n",
        "model_CNN3.add(keras.layers.Dense(num_classes, activation='softmax'))\n",
        "\n",
        "model_CNN3.summary()\n",
        "\n",
        "# Compile model\n",
        "\n",
        "model_CNN3.compile(loss='categorical_crossentropy', optimizer='adam', metrics=['accuracy'])\n",
        "\n",
        "\n",
        "# Fit the model\n",
        "#40--10\n",
        "model_CNN3.fit(X_train, y_train, validation_data=(X_test, y_test), epochs=40, batch_size=100, verbose=1)\n",
        "# Final evaluation of the model\n",
        "scores = model_CNN3.evaluate(X_test, y_test, verbose=0)\n",
        "print(\"CNN Error: %.2f%%\" % (100-scores[1]*100))"
      ],
      "execution_count": 0,
      "outputs": [
        {
          "output_type": "stream",
          "text": [
            "Model: \"sequential_34\"\n",
            "_________________________________________________________________\n",
            "Layer (type)                 Output Shape              Param #   \n",
            "=================================================================\n",
            "conv2d_68 (Conv2D)           (None, 28, 28, 30)        780       \n",
            "_________________________________________________________________\n",
            "max_pooling2d_68 (MaxPooling (None, 14, 14, 30)        0         \n",
            "_________________________________________________________________\n",
            "conv2d_69 (Conv2D)           (None, 14, 14, 15)        4065      \n",
            "_________________________________________________________________\n",
            "max_pooling2d_69 (MaxPooling (None, 7, 7, 15)          0         \n",
            "_________________________________________________________________\n",
            "dropout_38 (Dropout)         (None, 7, 7, 15)          0         \n",
            "_________________________________________________________________\n",
            "flatten_34 (Flatten)         (None, 735)               0         \n",
            "_________________________________________________________________\n",
            "dense_81 (Dense)             (None, 128)               94208     \n",
            "_________________________________________________________________\n",
            "dense_82 (Dense)             (None, 50)                6450      \n",
            "_________________________________________________________________\n",
            "dense_83 (Dense)             (None, 27)                1377      \n",
            "=================================================================\n",
            "Total params: 106,880\n",
            "Trainable params: 106,880\n",
            "Non-trainable params: 0\n",
            "_________________________________________________________________\n",
            "Train on 665 samples, validate on 167 samples\n",
            "Epoch 1/40\n",
            "665/665 [==============================] - 3s 5ms/sample - loss: 3.4770 - acc: 0.0406 - val_loss: 3.2397 - val_acc: 0.0359\n",
            "Epoch 2/40\n",
            "665/665 [==============================] - 1s 1ms/sample - loss: 3.1791 - acc: 0.0827 - val_loss: 3.1472 - val_acc: 0.0539\n",
            "Epoch 3/40\n",
            "665/665 [==============================] - 1s 1ms/sample - loss: 3.0665 - acc: 0.1188 - val_loss: 3.0295 - val_acc: 0.1377\n",
            "Epoch 4/40\n",
            "665/665 [==============================] - 1s 1ms/sample - loss: 2.8518 - acc: 0.1940 - val_loss: 2.8006 - val_acc: 0.1737\n",
            "Epoch 5/40\n",
            "665/665 [==============================] - 1s 1ms/sample - loss: 2.5646 - acc: 0.2556 - val_loss: 2.5438 - val_acc: 0.2395\n",
            "Epoch 6/40\n",
            "665/665 [==============================] - 1s 1ms/sample - loss: 2.1715 - acc: 0.3955 - val_loss: 2.2614 - val_acc: 0.3713\n",
            "Epoch 7/40\n",
            "665/665 [==============================] - 1s 1ms/sample - loss: 1.8327 - acc: 0.4692 - val_loss: 2.0605 - val_acc: 0.3952\n",
            "Epoch 8/40\n",
            "665/665 [==============================] - 1s 1ms/sample - loss: 1.6131 - acc: 0.5308 - val_loss: 2.0086 - val_acc: 0.4371\n",
            "Epoch 9/40\n",
            "665/665 [==============================] - 1s 1ms/sample - loss: 1.4410 - acc: 0.5774 - val_loss: 1.7061 - val_acc: 0.5030\n",
            "Epoch 10/40\n",
            "665/665 [==============================] - 1s 1ms/sample - loss: 1.2194 - acc: 0.6436 - val_loss: 1.5774 - val_acc: 0.5329\n",
            "Epoch 11/40\n",
            "665/665 [==============================] - 1s 1ms/sample - loss: 1.0793 - acc: 0.6782 - val_loss: 1.5349 - val_acc: 0.5569\n",
            "Epoch 12/40\n",
            "665/665 [==============================] - 1s 1ms/sample - loss: 0.9290 - acc: 0.7143 - val_loss: 1.4569 - val_acc: 0.5808\n",
            "Epoch 13/40\n",
            "665/665 [==============================] - 1s 1ms/sample - loss: 0.7978 - acc: 0.7474 - val_loss: 1.3539 - val_acc: 0.5928\n",
            "Epoch 14/40\n",
            "665/665 [==============================] - 1s 1ms/sample - loss: 0.7374 - acc: 0.7744 - val_loss: 1.3867 - val_acc: 0.5689\n",
            "Epoch 15/40\n",
            "665/665 [==============================] - 1s 1ms/sample - loss: 0.6756 - acc: 0.7865 - val_loss: 1.2740 - val_acc: 0.6407\n",
            "Epoch 16/40\n",
            "665/665 [==============================] - 1s 1ms/sample - loss: 0.5721 - acc: 0.8271 - val_loss: 1.2347 - val_acc: 0.6228\n",
            "Epoch 17/40\n",
            "665/665 [==============================] - 1s 1ms/sample - loss: 0.5050 - acc: 0.8526 - val_loss: 1.2615 - val_acc: 0.6407\n",
            "Epoch 18/40\n",
            "665/665 [==============================] - 1s 1ms/sample - loss: 0.4557 - acc: 0.8647 - val_loss: 1.2242 - val_acc: 0.6587\n",
            "Epoch 19/40\n",
            "665/665 [==============================] - 1s 1ms/sample - loss: 0.4219 - acc: 0.8737 - val_loss: 1.1850 - val_acc: 0.6766\n",
            "Epoch 20/40\n",
            "665/665 [==============================] - 1s 1ms/sample - loss: 0.3526 - acc: 0.8977 - val_loss: 1.1962 - val_acc: 0.6826\n",
            "Epoch 21/40\n",
            "665/665 [==============================] - 1s 1ms/sample - loss: 0.3441 - acc: 0.8992 - val_loss: 1.1469 - val_acc: 0.7066\n",
            "Epoch 22/40\n",
            "665/665 [==============================] - 1s 1ms/sample - loss: 0.3128 - acc: 0.9143 - val_loss: 1.2399 - val_acc: 0.6647\n",
            "Epoch 23/40\n",
            "665/665 [==============================] - 1s 1ms/sample - loss: 0.2677 - acc: 0.9128 - val_loss: 1.1049 - val_acc: 0.7126\n",
            "Epoch 24/40\n",
            "665/665 [==============================] - 1s 1ms/sample - loss: 0.2595 - acc: 0.9338 - val_loss: 1.1564 - val_acc: 0.6826\n",
            "Epoch 25/40\n",
            "665/665 [==============================] - 1s 1ms/sample - loss: 0.2204 - acc: 0.9323 - val_loss: 1.1626 - val_acc: 0.6826\n",
            "Epoch 26/40\n",
            "665/665 [==============================] - 1s 1ms/sample - loss: 0.2083 - acc: 0.9383 - val_loss: 1.1537 - val_acc: 0.6707\n",
            "Epoch 27/40\n",
            "665/665 [==============================] - 1s 1ms/sample - loss: 0.1630 - acc: 0.9564 - val_loss: 1.1569 - val_acc: 0.7126\n",
            "Epoch 28/40\n",
            "665/665 [==============================] - 1s 1ms/sample - loss: 0.1761 - acc: 0.9489 - val_loss: 1.0952 - val_acc: 0.7305\n",
            "Epoch 29/40\n",
            "665/665 [==============================] - 1s 1ms/sample - loss: 0.1500 - acc: 0.9579 - val_loss: 1.1682 - val_acc: 0.7006\n",
            "Epoch 30/40\n",
            "665/665 [==============================] - 1s 1ms/sample - loss: 0.1598 - acc: 0.9534 - val_loss: 1.2785 - val_acc: 0.6766\n",
            "Epoch 31/40\n",
            "665/665 [==============================] - 1s 1ms/sample - loss: 0.1367 - acc: 0.9639 - val_loss: 1.2457 - val_acc: 0.6886\n",
            "Epoch 32/40\n",
            "665/665 [==============================] - 1s 1ms/sample - loss: 0.1085 - acc: 0.9774 - val_loss: 1.1915 - val_acc: 0.7126\n",
            "Epoch 33/40\n",
            "665/665 [==============================] - 1s 1ms/sample - loss: 0.1156 - acc: 0.9699 - val_loss: 1.2342 - val_acc: 0.6707\n",
            "Epoch 34/40\n",
            "665/665 [==============================] - 1s 1ms/sample - loss: 0.1130 - acc: 0.9729 - val_loss: 1.2120 - val_acc: 0.7186\n",
            "Epoch 35/40\n",
            "665/665 [==============================] - 1s 1ms/sample - loss: 0.0936 - acc: 0.9759 - val_loss: 1.2235 - val_acc: 0.7246\n",
            "Epoch 36/40\n",
            "665/665 [==============================] - 1s 1ms/sample - loss: 0.0978 - acc: 0.9744 - val_loss: 1.2670 - val_acc: 0.7186\n",
            "Epoch 37/40\n",
            "665/665 [==============================] - 1s 1ms/sample - loss: 0.0838 - acc: 0.9744 - val_loss: 1.2214 - val_acc: 0.7425\n",
            "Epoch 38/40\n",
            "665/665 [==============================] - 1s 1ms/sample - loss: 0.1101 - acc: 0.9714 - val_loss: 1.2214 - val_acc: 0.7186\n",
            "Epoch 39/40\n",
            "665/665 [==============================] - 1s 1ms/sample - loss: 0.0799 - acc: 0.9880 - val_loss: 1.3128 - val_acc: 0.7006\n",
            "Epoch 40/40\n",
            "665/665 [==============================] - 1s 1ms/sample - loss: 0.0755 - acc: 0.9865 - val_loss: 1.3005 - val_acc: 0.7186\n",
            "CNN Error: 28.14%\n"
          ],
          "name": "stdout"
        }
      ]
    },
    {
      "cell_type": "code",
      "metadata": {
        "id": "mZgAmer2s7ga",
        "colab_type": "code",
        "outputId": "0a822f10-5ad6-4558-d957-6b9f63e6da1f",
        "colab": {
          "base_uri": "https://localhost:8080/",
          "height": 1000
        }
      },
      "source": [
        "\n",
        "#Crear modelo\n",
        "model_CNN1 =  keras.models.Sequential()\n",
        "model_CNN1.add(keras.layers.Conv2D(32, (3, 3), activation='relu', kernel_initializer='he_uniform', padding='same', input_shape=(28, 28, 1)))\n",
        "model_CNN1.add(keras.layers.MaxPooling2D((2, 2)))\n",
        "model_CNN1.add(keras.layers.Conv2D(64, (3, 3), activation='relu', kernel_initializer='he_uniform', padding='same'))\n",
        "model_CNN1.add(keras.layers.MaxPooling2D((2, 2)))\n",
        "model_CNN1.add(keras.layers.Dropout(0.25))\n",
        "model_CNN1.add(keras.layers.Flatten())\n",
        "model_CNN1.add(keras.layers.Dense(128, activation='relu', kernel_initializer='he_uniform'))\n",
        "model_CNN1.add(keras.layers.Dropout(0.5))\n",
        "model_CNN1.add(keras.layers.Dense(num_classes, activation='softmax'))\n",
        "\n",
        "model_CNN1.summary()\n",
        "\n",
        "# Compile model\n",
        "\n",
        "model_CNN1.compile(loss='categorical_crossentropy', optimizer='adam', metrics=['accuracy'])\n",
        "\n",
        "\n",
        "# Fit the model\n",
        "#40--10\n",
        "model_CNN1.fit(X_train, y_train, validation_data=(X_test, y_test), epochs=40, batch_size=100, verbose=1)\n",
        "# Final evaluation of the model\n",
        "scores = model_CNN1.evaluate(X_test, y_test, verbose=0)\n",
        "print(\"CNN Error: %.2f%%\" % (100-scores[1]*100))\n",
        "\n"
      ],
      "execution_count": 0,
      "outputs": [
        {
          "output_type": "stream",
          "text": [
            "Model: \"sequential_35\"\n",
            "_________________________________________________________________\n",
            "Layer (type)                 Output Shape              Param #   \n",
            "=================================================================\n",
            "conv2d_70 (Conv2D)           (None, 28, 28, 32)        320       \n",
            "_________________________________________________________________\n",
            "max_pooling2d_70 (MaxPooling (None, 14, 14, 32)        0         \n",
            "_________________________________________________________________\n",
            "conv2d_71 (Conv2D)           (None, 14, 14, 64)        18496     \n",
            "_________________________________________________________________\n",
            "max_pooling2d_71 (MaxPooling (None, 7, 7, 64)          0         \n",
            "_________________________________________________________________\n",
            "dropout_39 (Dropout)         (None, 7, 7, 64)          0         \n",
            "_________________________________________________________________\n",
            "flatten_35 (Flatten)         (None, 3136)              0         \n",
            "_________________________________________________________________\n",
            "dense_84 (Dense)             (None, 128)               401536    \n",
            "_________________________________________________________________\n",
            "dropout_40 (Dropout)         (None, 128)               0         \n",
            "_________________________________________________________________\n",
            "dense_85 (Dense)             (None, 27)                3483      \n",
            "=================================================================\n",
            "Total params: 423,835\n",
            "Trainable params: 423,835\n",
            "Non-trainable params: 0\n",
            "_________________________________________________________________\n",
            "Train on 665 samples, validate on 167 samples\n",
            "Epoch 1/40\n",
            "665/665 [==============================] - 4s 5ms/sample - loss: 3.6789 - acc: 0.0632 - val_loss: 3.1198 - val_acc: 0.1437\n",
            "Epoch 2/40\n",
            "665/665 [==============================] - 1s 1ms/sample - loss: 3.0355 - acc: 0.1053 - val_loss: 2.8856 - val_acc: 0.1976\n",
            "Epoch 3/40\n",
            "665/665 [==============================] - 1s 1ms/sample - loss: 2.7865 - acc: 0.2135 - val_loss: 2.5273 - val_acc: 0.3473\n",
            "Epoch 4/40\n",
            "665/665 [==============================] - 1s 1ms/sample - loss: 2.4761 - acc: 0.2767 - val_loss: 2.1980 - val_acc: 0.3772\n",
            "Epoch 5/40\n",
            "665/665 [==============================] - 1s 1ms/sample - loss: 2.2268 - acc: 0.3188 - val_loss: 2.0044 - val_acc: 0.4671\n",
            "Epoch 6/40\n",
            "665/665 [==============================] - 1s 1ms/sample - loss: 1.9935 - acc: 0.4150 - val_loss: 1.8440 - val_acc: 0.4671\n",
            "Epoch 7/40\n",
            "665/665 [==============================] - 1s 1ms/sample - loss: 1.8413 - acc: 0.4571 - val_loss: 1.6032 - val_acc: 0.5629\n",
            "Epoch 8/40\n",
            "665/665 [==============================] - 1s 1ms/sample - loss: 1.6541 - acc: 0.4992 - val_loss: 1.5020 - val_acc: 0.5689\n",
            "Epoch 9/40\n",
            "665/665 [==============================] - 1s 1ms/sample - loss: 1.4288 - acc: 0.5654 - val_loss: 1.4107 - val_acc: 0.6108\n",
            "Epoch 10/40\n",
            "665/665 [==============================] - 1s 1ms/sample - loss: 1.2757 - acc: 0.6030 - val_loss: 1.3433 - val_acc: 0.5928\n",
            "Epoch 11/40\n",
            "665/665 [==============================] - 1s 1ms/sample - loss: 1.2055 - acc: 0.6165 - val_loss: 1.2167 - val_acc: 0.6587\n",
            "Epoch 12/40\n",
            "665/665 [==============================] - 1s 1ms/sample - loss: 1.0940 - acc: 0.6797 - val_loss: 1.1948 - val_acc: 0.6647\n",
            "Epoch 13/40\n",
            "665/665 [==============================] - 1s 1ms/sample - loss: 1.0177 - acc: 0.6962 - val_loss: 1.1687 - val_acc: 0.6587\n",
            "Epoch 14/40\n",
            "665/665 [==============================] - 1s 1ms/sample - loss: 0.9213 - acc: 0.7173 - val_loss: 1.1069 - val_acc: 0.6527\n",
            "Epoch 15/40\n",
            "665/665 [==============================] - 1s 1ms/sample - loss: 0.8671 - acc: 0.7098 - val_loss: 1.0584 - val_acc: 0.7066\n",
            "Epoch 16/40\n",
            "665/665 [==============================] - 1s 1ms/sample - loss: 0.8644 - acc: 0.7173 - val_loss: 1.0860 - val_acc: 0.6826\n",
            "Epoch 17/40\n",
            "665/665 [==============================] - 1s 1ms/sample - loss: 0.7530 - acc: 0.7519 - val_loss: 1.0001 - val_acc: 0.7425\n",
            "Epoch 18/40\n",
            "665/665 [==============================] - 1s 1ms/sample - loss: 0.7072 - acc: 0.7805 - val_loss: 0.9625 - val_acc: 0.7365\n",
            "Epoch 19/40\n",
            "665/665 [==============================] - 1s 1ms/sample - loss: 0.6234 - acc: 0.8150 - val_loss: 0.9813 - val_acc: 0.7006\n",
            "Epoch 20/40\n",
            "665/665 [==============================] - 1s 1ms/sample - loss: 0.5905 - acc: 0.8150 - val_loss: 1.0108 - val_acc: 0.7066\n",
            "Epoch 21/40\n",
            "665/665 [==============================] - 1s 1ms/sample - loss: 0.5754 - acc: 0.8030 - val_loss: 0.9528 - val_acc: 0.7246\n",
            "Epoch 22/40\n",
            "665/665 [==============================] - 1s 1ms/sample - loss: 0.5208 - acc: 0.8436 - val_loss: 0.9056 - val_acc: 0.7186\n",
            "Epoch 23/40\n",
            "665/665 [==============================] - 1s 1ms/sample - loss: 0.4795 - acc: 0.8286 - val_loss: 0.8889 - val_acc: 0.7305\n",
            "Epoch 24/40\n",
            "665/665 [==============================] - 1s 1ms/sample - loss: 0.5186 - acc: 0.8421 - val_loss: 0.9152 - val_acc: 0.7365\n",
            "Epoch 25/40\n",
            "665/665 [==============================] - 1s 1ms/sample - loss: 0.4796 - acc: 0.8466 - val_loss: 0.9129 - val_acc: 0.7305\n",
            "Epoch 26/40\n",
            "665/665 [==============================] - 1s 1ms/sample - loss: 0.4079 - acc: 0.8602 - val_loss: 0.9504 - val_acc: 0.7485\n",
            "Epoch 27/40\n",
            "665/665 [==============================] - 1s 1ms/sample - loss: 0.3928 - acc: 0.8632 - val_loss: 0.9668 - val_acc: 0.7246\n",
            "Epoch 28/40\n",
            "665/665 [==============================] - 1s 1ms/sample - loss: 0.3633 - acc: 0.8917 - val_loss: 0.9953 - val_acc: 0.7545\n",
            "Epoch 29/40\n",
            "665/665 [==============================] - 1s 1ms/sample - loss: 0.3447 - acc: 0.8857 - val_loss: 0.8659 - val_acc: 0.7545\n",
            "Epoch 30/40\n",
            "665/665 [==============================] - 1s 1ms/sample - loss: 0.3671 - acc: 0.8812 - val_loss: 0.8696 - val_acc: 0.7425\n",
            "Epoch 31/40\n",
            "665/665 [==============================] - 1s 1ms/sample - loss: 0.3602 - acc: 0.8947 - val_loss: 0.9222 - val_acc: 0.7365\n",
            "Epoch 32/40\n",
            "665/665 [==============================] - 1s 1ms/sample - loss: 0.3317 - acc: 0.9038 - val_loss: 0.8766 - val_acc: 0.7665\n",
            "Epoch 33/40\n",
            "665/665 [==============================] - 1s 1ms/sample - loss: 0.3198 - acc: 0.9008 - val_loss: 0.8564 - val_acc: 0.7605\n",
            "Epoch 34/40\n",
            "665/665 [==============================] - 1s 1ms/sample - loss: 0.3117 - acc: 0.9068 - val_loss: 0.8499 - val_acc: 0.7725\n",
            "Epoch 35/40\n",
            "665/665 [==============================] - 1s 1ms/sample - loss: 0.3016 - acc: 0.8962 - val_loss: 0.8432 - val_acc: 0.7844\n",
            "Epoch 36/40\n",
            "665/665 [==============================] - 1s 1ms/sample - loss: 0.3004 - acc: 0.9038 - val_loss: 0.9040 - val_acc: 0.7485\n",
            "Epoch 37/40\n",
            "665/665 [==============================] - 1s 1ms/sample - loss: 0.2683 - acc: 0.9128 - val_loss: 0.9445 - val_acc: 0.7425\n",
            "Epoch 38/40\n",
            "665/665 [==============================] - 1s 1ms/sample - loss: 0.2388 - acc: 0.9158 - val_loss: 0.8952 - val_acc: 0.7425\n",
            "Epoch 39/40\n",
            "665/665 [==============================] - 1s 1ms/sample - loss: 0.2244 - acc: 0.9188 - val_loss: 0.9457 - val_acc: 0.7725\n",
            "Epoch 40/40\n",
            "665/665 [==============================] - 1s 1ms/sample - loss: 0.2215 - acc: 0.9383 - val_loss: 0.9818 - val_acc: 0.7844\n",
            "CNN Error: 21.56%\n"
          ],
          "name": "stdout"
        }
      ]
    },
    {
      "cell_type": "code",
      "metadata": {
        "id": "up7XjYPJEkmS",
        "colab_type": "code",
        "colab": {}
      },
      "source": [
        "model_lenet5 = 'modelo_CNN3_own3.h5'\n",
        "model_CNN3.save(model_lenet5)"
      ],
      "execution_count": 0,
      "outputs": []
    },
    {
      "cell_type": "code",
      "metadata": {
        "id": "elAmjje0JjAg",
        "colab_type": "code",
        "colab": {}
      },
      "source": [
        "model_lenet5 = 'modelo_CNN1_own.h5'\n",
        "model_CNN1.save(model_lenet5)"
      ],
      "execution_count": 0,
      "outputs": []
    },
    {
      "cell_type": "code",
      "metadata": {
        "id": "s8c9xXx_9dmz",
        "colab_type": "code",
        "outputId": "c5043eed-3674-444b-98f3-0cb2ccc0c218",
        "colab": {
          "base_uri": "https://localhost:8080/",
          "height": 1000
        }
      },
      "source": [
        "#Crear modelo\n",
        "model_CNN2 =  keras.models.Sequential()\n",
        "model_CNN2.add(keras.layers.Conv2D(6, (5, 5), activation='relu', kernel_initializer='he_uniform', padding='same', input_shape=(28, 28, 1)))\n",
        "model_CNN2.add(keras.layers.MaxPooling2D((2, 2)))\n",
        "model_CNN2.add(keras.layers.Conv2D(16, (5, 5), activation='relu', kernel_initializer='he_uniform', padding='same'))\n",
        "model_CNN2.add(keras.layers.MaxPooling2D((2, 2)))\n",
        "model_CNN2.add(keras.layers.Flatten())\n",
        "model_CNN2.add(keras.layers.Dense(120, activation='relu', kernel_initializer='he_uniform'))\n",
        "model_CNN2.add(keras.layers.Dense(84, activation='relu', kernel_initializer='he_uniform'))\n",
        "model_CNN2.add(keras.layers.Dense(num_classes, activation='softmax'))\n",
        "\n",
        "model_CNN2.summary()\n",
        "\n",
        "# Compile model\n",
        "model_CNN2.compile(loss='categorical_crossentropy', optimizer='adam', metrics=['accuracy'])\n",
        "\n",
        "\n",
        "# Fit the model\n",
        "model_CNN2.fit(X_train, y_train, validation_data=(X_test, y_test), epochs=40, batch_size=100, verbose=1)\n",
        "# Final evaluation of the model\n",
        "scores = model_CNN2.evaluate(X_test, y_test, verbose=0)\n",
        "print(\"CNN Error: %.2f%%\" % (100-scores[1]*100))\n"
      ],
      "execution_count": 0,
      "outputs": [
        {
          "output_type": "stream",
          "text": [
            "Model: \"sequential_32\"\n",
            "_________________________________________________________________\n",
            "Layer (type)                 Output Shape              Param #   \n",
            "=================================================================\n",
            "conv2d_64 (Conv2D)           (None, 28, 28, 6)         156       \n",
            "_________________________________________________________________\n",
            "max_pooling2d_64 (MaxPooling (None, 14, 14, 6)         0         \n",
            "_________________________________________________________________\n",
            "conv2d_65 (Conv2D)           (None, 14, 14, 16)        2416      \n",
            "_________________________________________________________________\n",
            "max_pooling2d_65 (MaxPooling (None, 7, 7, 16)          0         \n",
            "_________________________________________________________________\n",
            "flatten_32 (Flatten)         (None, 784)               0         \n",
            "_________________________________________________________________\n",
            "dense_75 (Dense)             (None, 120)               94200     \n",
            "_________________________________________________________________\n",
            "dense_76 (Dense)             (None, 84)                10164     \n",
            "_________________________________________________________________\n",
            "dense_77 (Dense)             (None, 27)                2295      \n",
            "=================================================================\n",
            "Total params: 109,231\n",
            "Trainable params: 109,231\n",
            "Non-trainable params: 0\n",
            "_________________________________________________________________\n",
            "Train on 665 samples, validate on 167 samples\n",
            "Epoch 1/40\n",
            "665/665 [==============================] - 3s 5ms/sample - loss: 3.3250 - acc: 0.0662 - val_loss: 3.1695 - val_acc: 0.0778\n",
            "Epoch 2/40\n",
            "665/665 [==============================] - 1s 777us/sample - loss: 2.9343 - acc: 0.2090 - val_loss: 2.8829 - val_acc: 0.1617\n",
            "Epoch 3/40\n",
            "665/665 [==============================] - 1s 784us/sample - loss: 2.4933 - acc: 0.3669 - val_loss: 2.4341 - val_acc: 0.2814\n",
            "Epoch 4/40\n",
            "665/665 [==============================] - 1s 785us/sample - loss: 1.9044 - acc: 0.5068 - val_loss: 1.8918 - val_acc: 0.4251\n",
            "Epoch 5/40\n",
            "665/665 [==============================] - 1s 777us/sample - loss: 1.4049 - acc: 0.6391 - val_loss: 1.5881 - val_acc: 0.5210\n",
            "Epoch 6/40\n",
            "665/665 [==============================] - 1s 790us/sample - loss: 1.0473 - acc: 0.7248 - val_loss: 1.5760 - val_acc: 0.5150\n",
            "Epoch 7/40\n",
            "665/665 [==============================] - 1s 793us/sample - loss: 0.8627 - acc: 0.7534 - val_loss: 1.3349 - val_acc: 0.5868\n",
            "Epoch 8/40\n",
            "665/665 [==============================] - 1s 832us/sample - loss: 0.6771 - acc: 0.8180 - val_loss: 1.2143 - val_acc: 0.6108\n",
            "Epoch 9/40\n",
            "665/665 [==============================] - 1s 786us/sample - loss: 0.5185 - acc: 0.8632 - val_loss: 1.3768 - val_acc: 0.6048\n",
            "Epoch 10/40\n",
            "665/665 [==============================] - 1s 784us/sample - loss: 0.4496 - acc: 0.8872 - val_loss: 1.2118 - val_acc: 0.6467\n",
            "Epoch 11/40\n",
            "665/665 [==============================] - 1s 790us/sample - loss: 0.3425 - acc: 0.9338 - val_loss: 1.1908 - val_acc: 0.6467\n",
            "Epoch 12/40\n",
            "665/665 [==============================] - 1s 786us/sample - loss: 0.2836 - acc: 0.9414 - val_loss: 1.2141 - val_acc: 0.6467\n",
            "Epoch 13/40\n",
            "665/665 [==============================] - 1s 772us/sample - loss: 0.2188 - acc: 0.9609 - val_loss: 1.1480 - val_acc: 0.6707\n",
            "Epoch 14/40\n",
            "665/665 [==============================] - 1s 792us/sample - loss: 0.1756 - acc: 0.9714 - val_loss: 1.1578 - val_acc: 0.6946\n",
            "Epoch 15/40\n",
            "665/665 [==============================] - 1s 789us/sample - loss: 0.1207 - acc: 0.9925 - val_loss: 1.1339 - val_acc: 0.7066\n",
            "Epoch 16/40\n",
            "665/665 [==============================] - 1s 795us/sample - loss: 0.0975 - acc: 0.9940 - val_loss: 1.0891 - val_acc: 0.7186\n",
            "Epoch 17/40\n",
            "665/665 [==============================] - 1s 774us/sample - loss: 0.0694 - acc: 0.9985 - val_loss: 1.1352 - val_acc: 0.7126\n",
            "Epoch 18/40\n",
            "665/665 [==============================] - 1s 784us/sample - loss: 0.0529 - acc: 1.0000 - val_loss: 1.1530 - val_acc: 0.7006\n",
            "Epoch 19/40\n",
            "665/665 [==============================] - 1s 765us/sample - loss: 0.0419 - acc: 0.9970 - val_loss: 1.1537 - val_acc: 0.7006\n",
            "Epoch 20/40\n",
            "665/665 [==============================] - 1s 792us/sample - loss: 0.0363 - acc: 0.9985 - val_loss: 1.1707 - val_acc: 0.7126\n",
            "Epoch 21/40\n",
            "665/665 [==============================] - 1s 785us/sample - loss: 0.0301 - acc: 1.0000 - val_loss: 1.1803 - val_acc: 0.7126\n",
            "Epoch 22/40\n",
            "665/665 [==============================] - 1s 782us/sample - loss: 0.0252 - acc: 0.9985 - val_loss: 1.2327 - val_acc: 0.7126\n",
            "Epoch 23/40\n",
            "665/665 [==============================] - 1s 784us/sample - loss: 0.0218 - acc: 1.0000 - val_loss: 1.1833 - val_acc: 0.7066\n",
            "Epoch 24/40\n",
            "665/665 [==============================] - 1s 782us/sample - loss: 0.0188 - acc: 1.0000 - val_loss: 1.2176 - val_acc: 0.7186\n",
            "Epoch 25/40\n",
            "665/665 [==============================] - 1s 777us/sample - loss: 0.0171 - acc: 0.9985 - val_loss: 1.2440 - val_acc: 0.7006\n",
            "Epoch 26/40\n",
            "665/665 [==============================] - 1s 783us/sample - loss: 0.0159 - acc: 0.9985 - val_loss: 1.2413 - val_acc: 0.7186\n",
            "Epoch 27/40\n",
            "665/665 [==============================] - 1s 781us/sample - loss: 0.0183 - acc: 0.9985 - val_loss: 1.2428 - val_acc: 0.7186\n",
            "Epoch 28/40\n",
            "665/665 [==============================] - 1s 818us/sample - loss: 0.0172 - acc: 0.9970 - val_loss: 1.2864 - val_acc: 0.7246\n",
            "Epoch 29/40\n",
            "665/665 [==============================] - 1s 775us/sample - loss: 0.0137 - acc: 1.0000 - val_loss: 1.2593 - val_acc: 0.7186\n",
            "Epoch 30/40\n",
            "665/665 [==============================] - 1s 774us/sample - loss: 0.0112 - acc: 1.0000 - val_loss: 1.2850 - val_acc: 0.7186\n",
            "Epoch 31/40\n",
            "665/665 [==============================] - 1s 784us/sample - loss: 0.0102 - acc: 1.0000 - val_loss: 1.3134 - val_acc: 0.7126\n",
            "Epoch 32/40\n",
            "665/665 [==============================] - 1s 779us/sample - loss: 0.0093 - acc: 1.0000 - val_loss: 1.2876 - val_acc: 0.7305\n",
            "Epoch 33/40\n",
            "665/665 [==============================] - 1s 774us/sample - loss: 0.0080 - acc: 1.0000 - val_loss: 1.3352 - val_acc: 0.7126\n",
            "Epoch 34/40\n",
            "665/665 [==============================] - 1s 776us/sample - loss: 0.0074 - acc: 1.0000 - val_loss: 1.3246 - val_acc: 0.7126\n",
            "Epoch 35/40\n",
            "665/665 [==============================] - 1s 786us/sample - loss: 0.0068 - acc: 1.0000 - val_loss: 1.3112 - val_acc: 0.7305\n",
            "Epoch 36/40\n",
            "665/665 [==============================] - 1s 774us/sample - loss: 0.0063 - acc: 1.0000 - val_loss: 1.3388 - val_acc: 0.7186\n",
            "Epoch 37/40\n",
            "665/665 [==============================] - 1s 782us/sample - loss: 0.0059 - acc: 1.0000 - val_loss: 1.3690 - val_acc: 0.7186\n",
            "Epoch 38/40\n",
            "665/665 [==============================] - 1s 802us/sample - loss: 0.0056 - acc: 1.0000 - val_loss: 1.3547 - val_acc: 0.7246\n",
            "Epoch 39/40\n",
            "665/665 [==============================] - 1s 781us/sample - loss: 0.0052 - acc: 1.0000 - val_loss: 1.3554 - val_acc: 0.7126\n",
            "Epoch 40/40\n",
            "665/665 [==============================] - 1s 795us/sample - loss: 0.0049 - acc: 1.0000 - val_loss: 1.3812 - val_acc: 0.7126\n",
            "CNN Error: 28.74%\n"
          ],
          "name": "stdout"
        }
      ]
    },
    {
      "cell_type": "code",
      "metadata": {
        "id": "d6z4XowutboR",
        "colab_type": "code",
        "colab": {}
      },
      "source": [
        "model_lenet5 = 'modelo_CNN2_own1.h5'\n",
        "model_CNN2.save(model_lenet5)\n",
        "del model_CNN2"
      ],
      "execution_count": 0,
      "outputs": []
    },
    {
      "cell_type": "code",
      "metadata": {
        "id": "KGglrGqqfvPk",
        "colab_type": "code",
        "colab": {}
      },
      "source": [
        "\n",
        "#Para cargar el modelo\n",
        "with CustomObjectScope({'GlorotUniform': glorot_uniform()}):\n",
        "        model_loaded = load_model('/content/drive/My Drive/Colab Notebooks/Proyecto_VC/modelo_CNN1_own3.h5')"
      ],
      "execution_count": 0,
      "outputs": []
    },
    {
      "cell_type": "code",
      "metadata": {
        "id": "InDL5suDoqgv",
        "colab_type": "code",
        "outputId": "a1bbd0ed-f421-43dd-eab9-4ff15e63e2a2",
        "colab": {
          "base_uri": "https://localhost:8080/",
          "height": 34
        }
      },
      "source": [
        "# evaluate loaded model on test data\n",
        "model_loaded.compile(loss='categorical_crossentropy', optimizer='adam', metrics=['accuracy'])\n",
        "score = model_loaded.evaluate(X_test, y_test, verbose=0)\n",
        "print(\"%s: %.2f%%\" % (\"Accuracy:\", score[1]*100))"
      ],
      "execution_count": 25,
      "outputs": [
        {
          "output_type": "stream",
          "text": [
            "Accuracy:: 95.81%\n"
          ],
          "name": "stdout"
        }
      ]
    },
    {
      "cell_type": "markdown",
      "metadata": {
        "id": "n4OkUdwAGRfe",
        "colab_type": "text"
      },
      "source": [
        "# **PROCESAMIENTO DE IMAGENES A EVALUAR**"
      ]
    },
    {
      "cell_type": "code",
      "metadata": {
        "id": "Owqru-GBcwBI",
        "colab_type": "code",
        "colab": {}
      },
      "source": [
        "def morfologia1(gray):\n",
        "        gray2 = cv2.medianBlur (gray, 55)\n",
        "        kernel1= cv2 . getStructuringElement ( cv2 . MORPH_ELLIPSE , ( 7, 7 )) \n",
        "        #kernel2= cv2 . getStructuringElement ( cv2 . MORPH_ELLIPSE , ( 4 , 4 )) \n",
        "        kernel4= cv2 . getStructuringElement ( cv2 . MORPH_ELLIPSE , (25 ,25 )) \n",
        "\n",
        "\n",
        "        th3 = cv2.adaptiveThreshold (gray2, 255, cv2.ADAPTIVE_THRESH_GAUSSIAN_C, \\\n",
        "                    cv2.THRESH_BINARY_INV, 47,2)\n",
        "\n",
        "        #Erosión:\n",
        "        kernel = np.ones((2,2),np.uint8)\n",
        "        erosion = cv2.erode(th3,kernel,iterations = 1)\n",
        "\n",
        "        #Apertura:\n",
        "        apertura = cv2.morphologyEx(erosion, cv2.MORPH_OPEN, kernel1)\n",
        "\n",
        "        #Dilatación:\n",
        "        dilatacion2 = cv2.dilate(apertura,kernel4,iterations = 1)\n",
        "\n",
        "        #Cierre\n",
        "        kernel3  =  np . ones ((20,20), np . uint8 )\n",
        "        cierre  =  cv2.morphologyEx(dilatacion2, cv2.MORPH_CLOSE, kernel3)\n",
        "\n",
        "        #Erosión\n",
        "        kernel5 = np.ones((5,5),np.uint8)\n",
        "        erosion = cv2.erode(cierre ,kernel5,iterations = 1)\n",
        "\n",
        "        plt.imshow(erosion,cmap = plt.cm.gray)\n",
        "        im2, contornos, jerarquía = cv2.findContours (erosion,cv2.RETR_TREE,cv2.CHAIN_APPROX_SIMPLE)\n",
        "\n",
        "\n",
        "\n",
        "        #Contornos\n",
        "        contornos=np.r_[contornos]\n",
        "\n",
        "\n",
        "        limites= []\n",
        "        areas=[]\n",
        "        for i in range(len(contornos)):\n",
        "          #Señalar los limites del rextangulo, xInit, yInit, xEnd, fEnd\n",
        "              l= cv2.boundingRect(contornos[i])\n",
        "              lx=abs(l[0]-l[2])\n",
        "              ly=abs(l[1]-l[3])\n",
        "              if (lx==l[2]):\n",
        "                continue\n",
        "              elif(ly==l[3]):\n",
        "                continue\n",
        "              else:\n",
        "                limites.append(l)\n",
        "                puntos= l\n",
        "                puntox1= puntos[0]\n",
        "                puntox2=puntos[2]\n",
        "                puntoy1= puntos[1]\n",
        "                puntoy2= puntos[3]\n",
        "                base= (puntox2-puntox1)\n",
        "                altura= (puntoy2-puntoy1)\n",
        "                areas.append(abs(base*altura))\n",
        "        limites=np.r_[limites]      \n",
        "        print (limites)\n",
        "\n",
        "\n",
        "        #Graficar\n",
        "        fig= plt.figure(figsize=(10,10))\n",
        "        images=[]\n",
        "        for i in range(len(limites)):\n",
        "                ax=fig.add_subplot(1,len(limites),i+1)\n",
        "                zona=limites[i]\n",
        "                f_image2=gray[int(zona[1]):int(zona[1]+zona[3]),int(zona[0]):int(zona[0]+zona[2])]\n",
        "                plt.imshow(f_image2,cmap = plt.cm.gray)\n",
        "                images.append(f_image2)\n",
        "\n",
        "\n",
        "\n",
        "\n",
        "\n",
        "        #Eliminar ruido 1    \n",
        "        c=0  \n",
        "        arreglo=list()\n",
        "        while c< limites.shape[0]:\n",
        "\n",
        "              for i in range(limites.shape[0]):\n",
        "                if c != i:\n",
        "\n",
        "                  if (limites[c,2]+limites[c,0])<= (limites[i,2]+limites[i,0]) and limites[c,0]>= limites[i,0] and (limites[c,3]+limites[c,1])<= (limites[i,3]+limites[i,1]) and limites[c,1]>= limites[i,1]:\n",
        "\n",
        "                      arreglo.append(c)\n",
        "\n",
        "\n",
        "                  else:\n",
        "                    continue\n",
        "                else:\n",
        "                     continue\n",
        "\n",
        "              c=c+1\n",
        "\n",
        "\n",
        "\n",
        "\n",
        "\n",
        "\n",
        "        #Imagenes a eliminar\n",
        "        arreglo\n",
        "        a=len(arreglo)\n",
        "        resta=limites.shape[0] - a\n",
        "\n",
        "        #Modifica el vector limites\n",
        "        limites_c=np.array(limites,dtype=bool)\n",
        "        limites_c[arreglo]=False\n",
        "        limites=limites[limites_c]\n",
        "        limites=limites.reshape((resta,4))\n",
        "\n",
        "\n",
        "\n",
        "        #Graficar\n",
        "        #fig= plt.figure(figsize=(20,20))\n",
        "        images=[]\n",
        "        for i in range(len(limites)):\n",
        "        #        ax=fig.add_subplot(1,len(limites),i+1)\n",
        "                zona=limites[i]\n",
        "                f_image2=gray[int(zona[1]-8):int(zona[1]+zona[3]+8),int(zona[0]-8):int(zona[0]+zona[2]+8)]\n",
        "               # plt.imshow(f_image2,cmap = plt.cm.gray)\n",
        "                images.append(f_image2)\n",
        "\n",
        "\n",
        "        x_limite=[]\n",
        "        imagesO=[]\n",
        "        for j in range(len(limites)):\n",
        "          puntos= limites[j]\n",
        "          x_limite.append(puntos[0])\n",
        "\n",
        "        lim=np.copy(x_limite)\n",
        "        images=np.r_[images]\n",
        "\n",
        "        c=0\n",
        "        while c <len(lim):\n",
        "            minimo= np.min(x_limite)\n",
        "            ind= lim==minimo  \n",
        "            n=images[ind]\n",
        "            #print(ind)\n",
        "            imagesO.append(n)\n",
        "            x_limite.remove(minimo)\n",
        "            c=c+1\n",
        "\n",
        "        images_f=[]\n",
        "        for k in range(len(imagesO)):\n",
        "          n=imagesO[k]\n",
        "          images_f.append(n[0])\n",
        "\n",
        "        fig= plt.figure(figsize=(10,10))\n",
        "        for i in range(len(images_f)):\n",
        "            ax=fig.add_subplot(1,len(images_f),i+1)\n",
        "            m=images_f[i]\n",
        "            plt.imshow(m,cmap = plt.cm.gray)\n",
        "\n",
        "        data=[]\n",
        "\n",
        "        for i in range(len(images_f)):\n",
        "\n",
        "              x= images_f[i]\n",
        "              m = cv2.resize(x, (28,28), interpolation=cv2.INTER_AREA)  \n",
        "              #Binarización\n",
        "              _, m =  cv2.threshold(m,0,255,cv2.THRESH_BINARY_INV+cv2.THRESH_OTSU)\n",
        "              m=m.reshape(784)\n",
        "              data.append(m)\n",
        "        data= np.r_[data]   \n",
        "        \n",
        "        return data\n",
        "\n",
        "\n"
      ],
      "execution_count": 0,
      "outputs": []
    },
    {
      "cell_type": "code",
      "metadata": {
        "id": "z5YK0OTBxo86",
        "colab_type": "code",
        "colab": {}
      },
      "source": [
        " \n",
        "def morfologia2(gray):\n",
        "  \n",
        "          blur = cv2.GaussianBlur(gray ,(7,7),0)\n",
        "          ret3,th3 = cv2.threshold(blur,0,255,cv2.THRESH_BINARY_INV+cv2.THRESH_OTSU)\n",
        "          plt.imshow(th3,cmap = plt.cm.gray)\n",
        "          kernel1= cv2 . getStructuringElement ( cv2 . MORPH_ELLIPSE , ( 5, 5 )) \n",
        "          kernel4= cv2 . getStructuringElement ( cv2 . MORPH_ELLIPSE , ( 8 ,8 )) \n",
        "\n",
        "          \n",
        "\n",
        "          #Erosión\n",
        "          kernel = np.ones((3,3),np.uint8)\n",
        "          erosion = cv2.erode(th3,kernel,iterations = 1)\n",
        "\n",
        "          #Apertura\n",
        "          apertura = cv2.morphologyEx(erosion, cv2.MORPH_OPEN, kernel1)\n",
        "          plt.imshow(apertura,cmap = plt.cm.gray)\n",
        "\n",
        "          #Dilatación \n",
        "          dilatacion2 = cv2.dilate(apertura,kernel4,iterations = 1)\n",
        "\n",
        "          #Cierre          \n",
        "          kernel1  =  np . ones ((6,6), np . uint8 )\n",
        "          cierre  =  cv2.morphologyEx(dilatacion2, cv2.MORPH_CLOSE, kernel1)\n",
        "\n",
        "          #Erosión\n",
        "          kernel = np.ones((5,5),np.uint8)\n",
        "          erosion = cv2.erode(cierre ,kernel,iterations = 1)\n",
        "          plt.imshow(erosion,cmap = plt.cm.gray)\n",
        "          \n",
        "          #Contornos\n",
        "          im2, contornos, jerarquía = cv2.findContours (erosion,cv2.RETR_TREE,cv2.CHAIN_APPROX_SIMPLE)\n",
        "          contornos=np.r_[contornos]\n",
        "\n",
        "          limites= []\n",
        "          areas=[]\n",
        "          for i in range(len(contornos)):\n",
        "          #Señalar los limites del rextangulo, xInit, yInit, xEnd, fEnd\n",
        "                l= cv2.boundingRect(contornos[i])\n",
        "                lx=abs(l[0]-l[2])\n",
        "                ly=abs(l[1]-l[3])\n",
        "                if (lx==l[2]):\n",
        "                  continue\n",
        "                elif(ly==l[3]):\n",
        "                  continue\n",
        "                else:\n",
        "                  limites.append(l)\n",
        "                  puntos= l\n",
        "                  puntox1= puntos[0]\n",
        "                  puntox2=puntos[2]\n",
        "                  puntoy1= puntos[1]\n",
        "                  puntoy2= puntos[3]\n",
        "                  base= (puntox2-puntox1)\n",
        "                  altura= (puntoy2-puntoy1)\n",
        "                  areas.append(abs(base*altura))\n",
        "          limites=np.r_[limites]      \n",
        "          print (limites)\n",
        "\n",
        "\n",
        "\n",
        "          #Graficar\n",
        "          fig= plt.figure(figsize=(10,10))\n",
        "          images=[]\n",
        "          for i in range(len(limites)):\n",
        "                  ax=fig.add_subplot(1,len(limites),i+1)\n",
        "                  zona=limites[i]\n",
        "                  f_image2=gray[int(zona[1]):int(zona[1]+zona[3]),int(zona[0]):int(zona[0]+zona[2])]\n",
        "                  plt.imshow(f_image2,cmap = plt.cm.gray)\n",
        "                  images.append(f_image2)\n",
        "\n",
        "\n",
        "\n",
        "\n",
        "\n",
        "          #Eliminar ruido    \n",
        "          c=0  \n",
        "          arreglo=list()\n",
        "          while c< limites.shape[0]:\n",
        "\n",
        "                for i in range(limites.shape[0]):\n",
        "                  if c != i:\n",
        "\n",
        "                    if (limites[c,2]+limites[c,0])<= (limites[i,2]+limites[i,0]) and limites[c,0]>= limites[i,0] and (limites[c,3]+limites[c,1])<= (limites[i,3]+limites[i,1]) and limites[c,1]>= limites[i,1]:\n",
        "\n",
        "                        arreglo.append(c)\n",
        "\n",
        "\n",
        "                    else:\n",
        "                      continue\n",
        "                  else:\n",
        "                       continue\n",
        "\n",
        "                c=c+1\n",
        "\n",
        "\n",
        "\n",
        "\n",
        "\n",
        "\n",
        "          #Imagenes a eliminar\n",
        "          arreglo\n",
        "          a=len(arreglo)\n",
        "          resta=limites.shape[0] - a\n",
        "\n",
        "          #Modifica el vector limites\n",
        "          limites_c=np.array(limites,dtype=bool)\n",
        "          limites_c[arreglo]=False\n",
        "          limites=limites[limites_c]\n",
        "          limites=limites.reshape((resta,4))\n",
        "\n",
        "\n",
        "\n",
        "          #Grafica\n",
        "          images=[]\n",
        "          for i in range(len(limites)):\n",
        "                  zona=limites[i]\n",
        "                  f_image2=gray[int(zona[1]-8):int(zona[1]+zona[3]+8),int(zona[0]-8):int(zona[0]+zona[2]+8)]\n",
        "                  images.append(f_image2)\n",
        "\n",
        "          #Ordena el vector de imagenes\n",
        "          x_limite=[]\n",
        "          imagesO=[]\n",
        "          for j in range(len(limites)):\n",
        "            puntos= limites[j]\n",
        "            x_limite.append(puntos[0])\n",
        "\n",
        "          lim=np.copy(x_limite)\n",
        "          images=np.r_[images]\n",
        "\n",
        "          c=0\n",
        "          while c <len(lim):\n",
        "              minimo= np.min(x_limite)\n",
        "              ind= lim==minimo  \n",
        "              n=images[ind]\n",
        "              imagesO.append(n)\n",
        "              x_limite.remove(minimo)\n",
        "              c=c+1\n",
        "\n",
        "          images_f=[]\n",
        "          for k in range(len(imagesO)):\n",
        "            n=imagesO[k]\n",
        "            images_f.append(n[0])\n",
        "\n",
        "          fig= plt.figure(figsize=(10,10))\n",
        "          for i in range(len(images_f)):\n",
        "              ax=fig.add_subplot(1,len(images_f),i+1)\n",
        "              m=images_f[i]\n",
        "              plt.imshow(m,cmap = plt.cm.gray)\n",
        "\n",
        "          data=[]\n",
        "\n",
        "          for i in range(len(images_f)):\n",
        "\n",
        "                x= images_f[i]\n",
        "                m = cv2.resize(x, (28,28), interpolation=cv2.INTER_AREA)  \n",
        "                \n",
        "          #Binarización\n",
        "                _, m =  cv2.threshold(m,0,255,cv2.THRESH_BINARY_INV+cv2.THRESH_OTSU)\n",
        "                m=m.reshape(784)\n",
        "                data.append(m)\n",
        "          data= np.r_[data]   \n",
        "          \n",
        "          return data\n",
        "\n"
      ],
      "execution_count": 0,
      "outputs": []
    },
    {
      "cell_type": "code",
      "metadata": {
        "id": "TYkb2EEPubTv",
        "colab_type": "code",
        "outputId": "2f1bab27-687c-4880-de1c-5bab99858c3d",
        "colab": {
          "base_uri": "https://localhost:8080/",
          "height": 613
        }
      },
      "source": [
        "\n",
        "img = cv2.imread('/content/drive/My Drive/Colab Notebooks/Imagenes2/research4.jpeg')\n",
        "gray = cv2.cvtColor(img, cv2.COLOR_BGR2GRAY)\n",
        "hist = cv2.calcHist([gray], [0], None, [256], [0, 256])\n",
        "histOrde=np.zeros((hist.shape[0],1))\n",
        "hist2= np.copy(hist)\n",
        "for i in range(hist.shape[0]):\n",
        "  indMax=np.argmax(hist2)\n",
        "  histOrde[i]=hist2[indMax]\n",
        "  hist2[indMax]=0.0\n",
        "\n",
        "m=np.mean(histOrde[:7])\n",
        "umbral=m-m/10\n",
        "cont=0\n",
        "\n",
        "for i in range(7):\n",
        "  if (histOrde[i] >= umbral):\n",
        "      cont=cont+1\n",
        "if (cont==7):\n",
        "  \n",
        "      data=morfologia1(gray)\n",
        "      print(1)\n",
        "  \n",
        "  \n",
        "  \n",
        "else:\n",
        "      data=morfologia2(gray)\n",
        "      print(2)\n",
        "  \n",
        "  "
      ],
      "execution_count": 125,
      "outputs": [
        {
          "output_type": "stream",
          "text": [
            "[[ 957   73  105  166]\n",
            " [ 545   66   83  156]\n",
            " [ 685   64   87  167]\n",
            " [ 707  101   29   53]\n",
            " [ 429   60   95  157]\n",
            " [ 818   56  114  168]\n",
            " [ 845   77   65   44]\n",
            " [1132   50   87  190]\n",
            " [ 271   48   99  167]\n",
            " [ 123   44  119  179]\n",
            " [ 143   65   79   51]]\n",
            "2\n"
          ],
          "name": "stdout"
        },
        {
          "output_type": "display_data",
          "data": {
            "image/png": "[encoded data removed]",
            "text/plain": [
              "<Figure size 432x288 with 1 Axes>"
            ]
          },
          "metadata": {
            "tags": []
          }
        },
        {
          "output_type": "display_data",
          "data": {
            "image/png": "[encoded data removed]",
            "text/plain": [
              "<Figure size 720x720 with 11 Axes>"
            ]
          },
          "metadata": {
            "tags": []
          }
        },
        {
          "output_type": "display_data",
          "data": {
            "image/png": "[encoded data removed]",
            "text/plain": [
              "<Figure size 720x720 with 8 Axes>"
            ]
          },
          "metadata": {
            "tags": []
          }
        }
      ]
    },
    {
      "cell_type": "code",
      "metadata": {
        "id": "CIRZqu7joDup",
        "colab_type": "code",
        "outputId": "595ff16f-8b49-46ea-fac4-a0d55d78a549",
        "colab": {
          "base_uri": "https://localhost:8080/",
          "height": 82
        }
      },
      "source": [
        "#Visualizar datos\n",
        "\n",
        "fig = plt.figure(figsize=(30,30))\n",
        "print \n",
        "for i in range(data.shape[0]):\n",
        "    ax=fig.add_subplot(2,32,i+1)\n",
        "    plt.imshow(data[i].reshape(28,28), interpolation=\"nearest\", cmap = plt.cm.Greys_r)\n",
        "    \n",
        "    ax.set_xticklabels([])\n",
        "    ax.set_yticklabels([])"
      ],
      "execution_count": 126,
      "outputs": [
        {
          "output_type": "display_data",
          "data": {
            "image/png": "[encoded data removed]",
            "text/plain": [
              "<Figure size 2160x2160 with 8 Axes>"
            ]
          },
          "metadata": {
            "tags": []
          }
        }
      ]
    },
    {
      "cell_type": "code",
      "metadata": {
        "id": "ItnGMVI-lpXh",
        "colab_type": "code",
        "colab": {}
      },
      "source": [
        "data = data.reshape([-1, 28,28,1])\n",
        "data= data.astype('float32')"
      ],
      "execution_count": 0,
      "outputs": []
    },
    {
      "cell_type": "code",
      "metadata": {
        "id": "osXvp3oxggja",
        "colab_type": "code",
        "colab": {}
      },
      "source": [
        "y_pred = model_loaded.predict(x = data)\n",
        "prueba = np.argmax(y_pred, axis=1)"
      ],
      "execution_count": 0,
      "outputs": []
    },
    {
      "cell_type": "code",
      "metadata": {
        "id": "8U_KBbtYgggH",
        "colab_type": "code",
        "outputId": "9ee8f9f9-b089-4e65-c0e2-19e16b3d03fe",
        "colab": {
          "base_uri": "https://localhost:8080/",
          "height": 34
        }
      },
      "source": [
        "caracteres=[]\n",
        "for i in range(len(prueba)):\n",
        "    \n",
        "            if prueba[i]==1:  \n",
        "               caracteres.append(\"A\")\n",
        "                     \n",
        "            elif prueba[i]==2:  \n",
        "              caracteres.append(\"B\")\n",
        "                     \n",
        "            elif prueba[i]==3:\n",
        "              caracteres.append(\"C\")\n",
        "                     \n",
        "            elif prueba[i]==4: \n",
        "              caracteres.append(\"D\")\n",
        "              \n",
        "            elif prueba[i]==5: \n",
        "              caracteres.append(\"E\")\n",
        "                     \n",
        "            elif prueba[i]==6:  \n",
        "              caracteres.append(\"F\")\n",
        "                     \n",
        "            elif prueba[i]==7: \n",
        "              caracteres.append(\"G\")\n",
        "                     \n",
        "            elif prueba[i]==8: \n",
        "              caracteres.append(\"H\")\n",
        "                     \n",
        "            elif prueba[i]==9:  \n",
        "              caracteres.append(\"I\")\n",
        "                     \n",
        "            elif prueba[i]==10:\n",
        "              caracteres.append(\"J\")\n",
        "                     \n",
        "            elif prueba[i]==11:\n",
        "              caracteres.append(\"K\")\n",
        "                     \n",
        "            elif prueba[i]==12:\n",
        "              caracteres.append(\"L\")\n",
        "                     \n",
        "            elif prueba[i]==13:\n",
        "              caracteres.append(\"M\")\n",
        "                     \n",
        "            elif prueba[i]==14:\n",
        "              caracteres.append(\"N\")\n",
        "                     \n",
        "            elif prueba[i]==15: \n",
        "              caracteres.append(\"O\")\n",
        "                     \n",
        "            elif prueba[i]==16:\n",
        "              caracteres.append(\"P\")\n",
        "                     \n",
        "            elif prueba[i]==17: \n",
        "              caracteres.append(\"Q\")\n",
        "                     \n",
        "            elif prueba[i]==18: \n",
        "              caracteres.append(\"R\")\n",
        "                     \n",
        "            elif prueba[i]==19: \n",
        "              caracteres.append(\"S\")\n",
        "                     \n",
        "            elif prueba[i]==20: \n",
        "              caracteres.append(\"T\")\n",
        "                     \n",
        "            elif prueba[i]==21: \n",
        "              caracteres.append(\"U\")\n",
        "                    \n",
        "            elif prueba[i]==22: \n",
        "              caracteres.append(\"V\")\n",
        "                     \n",
        "            elif prueba[i]==23: \n",
        "              caracteres.append(\"W\")\n",
        "                     \n",
        "            elif prueba[i]==24:\n",
        "              caracteres.append(\"X\")\n",
        "                     \n",
        "            elif prueba[i]==25: \n",
        "              caracteres.append(\"Y\")\n",
        "                     \n",
        "            elif prueba[i]==26: \n",
        "              caracteres.append(\"Z\")\n",
        "frase=\"\"\n",
        "frase= \"\".join([i for i in caracteres])\n",
        "print(frase)"
      ],
      "execution_count": 129,
      "outputs": [
        {
          "output_type": "stream",
          "text": [
            "RESEARCH\n"
          ],
          "name": "stdout"
        }
      ]
    },
    {
      "cell_type": "code",
      "metadata": {
        "id": "WQNxZaJqqINv",
        "colab_type": "code",
        "colab": {}
      },
      "source": [
        "def voz(frase, lang, nombre):\n",
        "    file = gTTS(text=frase,lang=lang ,slow = False)\n",
        "    file.save(nombre)\n",
        "nombre=frase+\".mp3\""
      ],
      "execution_count": 0,
      "outputs": []
    },
    {
      "cell_type": "code",
      "metadata": {
        "id": "mhrSrgLLpjih",
        "colab_type": "code",
        "colab": {}
      },
      "source": [
        "voz(frase, \"EN\",nombre)"
      ],
      "execution_count": 0,
      "outputs": []
    },
    {
      "cell_type": "code",
      "metadata": {
        "id": "LKBgBeIh3_IX",
        "colab_type": "code",
        "colab": {}
      },
      "source": [
        ""
      ],
      "execution_count": 0,
      "outputs": []
    }
  ]
}