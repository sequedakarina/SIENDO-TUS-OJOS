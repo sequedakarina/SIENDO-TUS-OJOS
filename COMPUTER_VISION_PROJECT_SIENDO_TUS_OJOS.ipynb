{
  "nbformat": 4,
  "nbformat_minor": 0,
  "metadata": {
    "colab": {
      "name": "COMPUTER_VISION_PROJECT_SIENDO_TUS_OJOS.ipynb",
      "version": "0.3.2",
      "provenance": [],
      "collapsed_sections": [],
      "toc_visible": true
    },
    "kernelspec": {
      "name": "python3",
      "display_name": "Python 3"
    },
    "accelerator": "GPU"
  },
  "cells": [
    {
      "cell_type": "code",
      "metadata": {
        "id": "K3-_XffFrj01",
        "colab_type": "code",
        "outputId": "f90299f3-f556-4c7e-b693-935716e1f9b0",
        "colab": {
          "base_uri": "https://localhost:8080/",
          "height": 55
        }
      },
      "source": [
        "from google.colab import drive\n",
        "drive.mount('/content/drive')\n",
        "\n",
        "#Librerias \n",
        "import pandas as pd\n",
        "import numpy as np\n",
        "import matplotlib.pyplot as plt\n",
        "import cv2\n",
        "import tensorflow as tf\n",
        "from tensorflow import keras\n",
        "import numpy as np\n",
        "import pandas as pd\n",
        "import matplotlib.pyplot as plt\n",
        "from keras.utils import np_utils\n",
        "from tensorflow.keras.models import load_model\n",
        "import h5py\n",
        "from keras.utils import CustomObjectScope\n",
        "from keras.initializers import glorot_uniform\n",
        "import os\n",
        "import sys\n",
        "from ipywidgets import interact, interactive, fixed, interact_manual\n",
        "import ipywidgets as widgets\n",
        "from gtts import gTTS\n",
        "from io import BytesIO\n"
      ],
      "execution_count": 0,
      "outputs": [
        {
          "output_type": "stream",
          "text": [
            "Drive already mounted at /content/drive; to attempt to forcibly remount, call drive.mount(\"/content/drive\", force_remount=True).\n"
          ],
          "name": "stdout"
        }
      ]
    },
    {
      "cell_type": "code",
      "metadata": {
        "id": "WBpC9k4vlfGJ",
        "colab_type": "code",
        "outputId": "e37aa634-2349-4eb3-dfbe-a3d1b018757b",
        "colab": {
          "base_uri": "https://localhost:8080/",
          "height": 239
        }
      },
      "source": [
        "pip install gTTs"
      ],
      "execution_count": 0,
      "outputs": [
        {
          "output_type": "stream",
          "text": [
            "Requirement already satisfied: gTTs in /usr/local/lib/python3.6/dist-packages (2.0.3)\n",
            "Requirement already satisfied: requests in /usr/local/lib/python3.6/dist-packages (from gTTs) (2.21.0)\n",
            "Requirement already satisfied: gtts-token in /usr/local/lib/python3.6/dist-packages (from gTTs) (1.1.3)\n",
            "Requirement already satisfied: click in /usr/local/lib/python3.6/dist-packages (from gTTs) (7.0)\n",
            "Requirement already satisfied: bs4 in /usr/local/lib/python3.6/dist-packages (from gTTs) (0.0.1)\n",
            "Requirement already satisfied: six in /usr/local/lib/python3.6/dist-packages (from gTTs) (1.12.0)\n",
            "Requirement already satisfied: urllib3<1.25,>=1.21.1 in /usr/local/lib/python3.6/dist-packages (from requests->gTTs) (1.24.3)\n",
            "Requirement already satisfied: idna<2.9,>=2.5 in /usr/local/lib/python3.6/dist-packages (from requests->gTTs) (2.8)\n",
            "Requirement already satisfied: chardet<3.1.0,>=3.0.2 in /usr/local/lib/python3.6/dist-packages (from requests->gTTs) (3.0.4)\n",
            "Requirement already satisfied: certifi>=2017.4.17 in /usr/local/lib/python3.6/dist-packages (from requests->gTTs) (2019.6.16)\n",
            "Requirement already satisfied: beautifulsoup4 in /usr/local/lib/python3.6/dist-packages (from bs4->gTTs) (4.6.3)\n"
          ],
          "name": "stdout"
        }
      ]
    },
    {
      "cell_type": "markdown",
      "metadata": {
        "id": "Fss0wk2EwIeg",
        "colab_type": "text"
      },
      "source": [
        "# **RED NEURONAL**"
      ]
    },
    {
      "cell_type": "code",
      "metadata": {
        "id": "0HdESNbtsQPn",
        "colab_type": "code",
        "colab": {}
      },
      "source": [
        "#Carga de datasets\n",
        "X= pd.read_csv(\"/content/drive/My Drive/Colab Notebooks/Proyecto_VC/X_NEW.csv\", header=None).values.astype(float)"
      ],
      "execution_count": 0,
      "outputs": []
    },
    {
      "cell_type": "code",
      "metadata": {
        "id": "Q78BRdSNsUho",
        "colab_type": "code",
        "colab": {}
      },
      "source": [
        "y= pd.read_csv(\"/content/drive/My Drive/Colab Notebooks/Proyecto_VC/y_NEW.csv\", header=None).values"
      ],
      "execution_count": 0,
      "outputs": []
    },
    {
      "cell_type": "code",
      "metadata": {
        "id": "FbPjg0lUsXIw",
        "colab_type": "code",
        "outputId": "196a08e1-1df1-4ce1-c091-b8f969b3cd3f",
        "colab": {
          "base_uri": "https://localhost:8080/",
          "height": 35
        }
      },
      "source": [
        "print ('Caracteristicas de Train:',X.shape, type(X))"
      ],
      "execution_count": 0,
      "outputs": [
        {
          "output_type": "stream",
          "text": [
            "Caracteristicas de Train: (832, 784) <class 'numpy.ndarray'>\n"
          ],
          "name": "stdout"
        }
      ]
    },
    {
      "cell_type": "code",
      "metadata": {
        "id": "OwF76L5qsazI",
        "colab_type": "code",
        "outputId": "b838383e-02e5-4db1-f123-223642f8fad2",
        "colab": {
          "base_uri": "https://localhost:8080/",
          "height": 94
        }
      },
      "source": [
        "#Visualizar algunos datos\n",
        "\n",
        "perm = np.random.permutation(range(X.shape[0]))[0:10]\n",
        "random_imgs   = X[perm]\n",
        "random_labels = y[perm] \n",
        "fig = plt.figure(figsize=(30,30))\n",
        "print \n",
        "for i in range(random_imgs.shape[0]):\n",
        "    ax=fig.add_subplot(2,32,i+1)\n",
        "    plt.imshow(random_imgs[i].reshape(28,28), interpolation=\"nearest\", cmap = plt.cm.Greys_r)\n",
        "    ax.set_title(int(random_labels[i]))\n",
        "    ax.set_xticklabels([])\n",
        "    ax.set_yticklabels([])\n",
        "    "
      ],
      "execution_count": 0,
      "outputs": [
        {
          "output_type": "display_data",
          "data": {
            "image/png": "[encoded data removed]",
            "text/plain": [
              "<Figure size 2160x2160 with 10 Axes>"
            ]
          },
          "metadata": {
            "tags": []
          }
        }
      ]
    },
    {
      "cell_type": "code",
      "metadata": {
        "id": "pEeEAgA8spLj",
        "colab_type": "code",
        "outputId": "da1d42b7-b6ad-4132-8269-c12080862bf3",
        "colab": {
          "base_uri": "https://localhost:8080/",
          "height": 495
        }
      },
      "source": [
        "#Balanceo de clases:\n",
        "#Cantiadad de datos por cada clase-test \n",
        "for i in np.unique(y):\n",
        "    print (i, np.sum(y==i)),"
      ],
      "execution_count": 0,
      "outputs": [
        {
          "output_type": "stream",
          "text": [
            "1.0 30\n",
            "2.0 32\n",
            "3.0 32\n",
            "4.0 32\n",
            "5.0 32\n",
            "6.0 32\n",
            "7.0 32\n",
            "8.0 32\n",
            "9.0 32\n",
            "10.0 32\n",
            "11.0 32\n",
            "12.0 31\n",
            "13.0 32\n",
            "14.0 32\n",
            "15.0 33\n",
            "16.0 32\n",
            "17.0 33\n",
            "18.0 32\n",
            "19.0 33\n",
            "20.0 32\n",
            "21.0 32\n",
            "22.0 32\n",
            "23.0 32\n",
            "24.0 32\n",
            "25.0 32\n",
            "26.0 32\n"
          ],
          "name": "stdout"
        }
      ]
    },
    {
      "cell_type": "markdown",
      "metadata": {
        "id": "O7xIXvgPKXcQ",
        "colab_type": "text"
      },
      "source": [
        "## Arquitectura CNN "
      ]
    },
    {
      "cell_type": "code",
      "metadata": {
        "colab_type": "code",
        "id": "qswZAaln3pt_",
        "colab": {}
      },
      "source": [
        "#El -1 es para indexar la imagen \n",
        "X = X.reshape([-1, 28,28,1])\n",
        "X= X.astype('float32')\n",
        "# Normalizar de 0-255 a  0-1\n",
        "X= X / 255"
      ],
      "execution_count": 0,
      "outputs": []
    },
    {
      "cell_type": "code",
      "metadata": {
        "colab_type": "code",
        "id": "cSXQ-eeh3pty",
        "colab": {}
      },
      "source": [
        "from sklearn.model_selection import train_test_split\n",
        "X_train, X_test, y_train, y_test = train_test_split(X,y, test_size=.2)\n",
        "\n",
        "\n",
        "# one hot encode outputs\n",
        "\n",
        "y_train = np_utils.to_categorical(y_train)\n",
        "y_test = np_utils.to_categorical(y_test)\n",
        "num_classes = y_test.shape[1]"
      ],
      "execution_count": 0,
      "outputs": []
    },
    {
      "cell_type": "code",
      "metadata": {
        "id": "2U2yctMrX9hm",
        "colab_type": "code",
        "colab": {}
      },
      "source": [
        "datagen = keras.preprocessing.image.ImageDataGenerator( featurewise_center=True, rotation_range=10)\n",
        "# compute quantities required for featurewise normalization\n",
        "# (std, mean, and principal components if ZCA whitening is applied)\n",
        "datagen.fit(X_train)\n",
        "\n"
      ],
      "execution_count": 0,
      "outputs": []
    },
    {
      "cell_type": "code",
      "metadata": {
        "id": "mZgAmer2s7ga",
        "colab_type": "code",
        "outputId": "5abaa968-ca15-4bfd-ca42-ffff0b3af938",
        "colab": {
          "base_uri": "https://localhost:8080/",
          "height": 1000
        }
      },
      "source": [
        "\n",
        "#Crear modelo\n",
        "model_CNN1 =  keras.models.Sequential()\n",
        "model_CNN1.add(keras.layers.Conv2D(32, (3, 3), activation='relu', kernel_initializer='he_uniform', padding='same', input_shape=(28, 28, 1)))\n",
        "model_CNN1.add(keras.layers.MaxPooling2D((2, 2)))\n",
        "model_CNN1.add(keras.layers.Conv2D(64, (3, 3), activation='relu', kernel_initializer='he_uniform', padding='same'))\n",
        "model_CNN1.add(keras.layers.MaxPooling2D((2, 2)))\n",
        "model_CNN1.add(keras.layers.Dropout(0.25))\n",
        "model_CNN1.add(keras.layers.Flatten())\n",
        "model_CNN1.add(keras.layers.Dense(128, activation='relu', kernel_initializer='he_uniform'))\n",
        "model_CNN1.add(keras.layers.Dropout(0.5))\n",
        "model_CNN1.add(keras.layers.Dense(num_classes, activation='softmax'))\n",
        "\n",
        "model_CNN1.summary()\n",
        "\n",
        "# Compile model\n",
        "\n",
        "model_CNN1.compile(loss='categorical_crossentropy', optimizer='adam', metrics=['accuracy'])\n",
        "\n",
        "\n",
        "# Fit the model\n",
        "#40--10\n",
        "# fits the model on batches with real-time data augmentation:\n",
        "history= model_CNN1.fit_generator(datagen.flow(X_train, y_train, batch_size=100),validation_data=(X_test, y_test),\n",
        "                    steps_per_epoch=len(X_train) / 100, epochs=40)\n",
        "#model_CNN1.fit(X_train, y_train, validation_data=(X_test, y_test), epochs=40, batch_size=100, verbose=1)\n",
        "# Final evaluation of the model\n",
        "scores = model_CNN1.evaluate(X_test, y_test, verbose=0)\n",
        "print(\"CNN Error: %.2f%%\" % (100-scores[1]*100))\n",
        "\n"
      ],
      "execution_count": 0,
      "outputs": [
        {
          "output_type": "stream",
          "text": [
            "Model: \"sequential_2\"\n",
            "_________________________________________________________________\n",
            "Layer (type)                 Output Shape              Param #   \n",
            "=================================================================\n",
            "conv2d_4 (Conv2D)            (None, 28, 28, 32)        320       \n",
            "_________________________________________________________________\n",
            "max_pooling2d_4 (MaxPooling2 (None, 14, 14, 32)        0         \n",
            "_________________________________________________________________\n",
            "conv2d_5 (Conv2D)            (None, 14, 14, 64)        18496     \n",
            "_________________________________________________________________\n",
            "max_pooling2d_5 (MaxPooling2 (None, 7, 7, 64)          0         \n",
            "_________________________________________________________________\n",
            "dropout_4 (Dropout)          (None, 7, 7, 64)          0         \n",
            "_________________________________________________________________\n",
            "flatten_2 (Flatten)          (None, 3136)              0         \n",
            "_________________________________________________________________\n",
            "dense_4 (Dense)              (None, 128)               401536    \n",
            "_________________________________________________________________\n",
            "dropout_5 (Dropout)          (None, 128)               0         \n",
            "_________________________________________________________________\n",
            "dense_5 (Dense)              (None, 27)                3483      \n",
            "=================================================================\n",
            "Total params: 423,835\n",
            "Trainable params: 423,835\n",
            "Non-trainable params: 0\n",
            "_________________________________________________________________\n",
            "Epoch 1/40\n",
            "7/6 [===============================] - 1s 140ms/step - loss: 3.5327 - acc: 0.0376 - val_loss: 3.0515 - val_acc: 0.1497\n",
            "Epoch 2/40\n",
            "7/6 [===============================] - 0s 14ms/step - loss: 3.1151 - acc: 0.1188 - val_loss: 2.9113 - val_acc: 0.1497\n",
            "Epoch 3/40\n",
            "7/6 [===============================] - 0s 23ms/step - loss: 2.9513 - acc: 0.1609 - val_loss: 2.6006 - val_acc: 0.3234\n",
            "Epoch 4/40\n",
            "7/6 [===============================] - 0s 34ms/step - loss: 2.8059 - acc: 0.1985 - val_loss: 2.4216 - val_acc: 0.3533\n",
            "Epoch 5/40\n",
            "7/6 [===============================] - 0s 27ms/step - loss: 2.6027 - acc: 0.2571 - val_loss: 2.2338 - val_acc: 0.4132\n",
            "Epoch 6/40\n",
            "7/6 [===============================] - 0s 28ms/step - loss: 2.4491 - acc: 0.2812 - val_loss: 2.0033 - val_acc: 0.4910\n",
            "Epoch 7/40\n",
            "7/6 [===============================] - 0s 29ms/step - loss: 2.3577 - acc: 0.3158 - val_loss: 1.9401 - val_acc: 0.4611\n",
            "Epoch 8/40\n",
            "7/6 [===============================] - 0s 28ms/step - loss: 2.2259 - acc: 0.3398 - val_loss: 1.7355 - val_acc: 0.5449\n",
            "Epoch 9/40\n",
            "7/6 [===============================] - 0s 27ms/step - loss: 2.1215 - acc: 0.3880 - val_loss: 1.6400 - val_acc: 0.5569\n",
            "Epoch 10/40\n",
            "7/6 [===============================] - 0s 27ms/step - loss: 2.0156 - acc: 0.4045 - val_loss: 1.5678 - val_acc: 0.5988\n",
            "Epoch 11/40\n",
            "7/6 [===============================] - 0s 28ms/step - loss: 1.8405 - acc: 0.4511 - val_loss: 1.4668 - val_acc: 0.6108\n",
            "Epoch 12/40\n",
            "7/6 [===============================] - 0s 30ms/step - loss: 1.8138 - acc: 0.4632 - val_loss: 1.3631 - val_acc: 0.6407\n",
            "Epoch 13/40\n",
            "7/6 [===============================] - 0s 28ms/step - loss: 1.7232 - acc: 0.4812 - val_loss: 1.3410 - val_acc: 0.6048\n",
            "Epoch 14/40\n",
            "7/6 [===============================] - 0s 28ms/step - loss: 1.6021 - acc: 0.5128 - val_loss: 1.2793 - val_acc: 0.6587\n",
            "Epoch 15/40\n",
            "7/6 [===============================] - 0s 29ms/step - loss: 1.5613 - acc: 0.5459 - val_loss: 1.1699 - val_acc: 0.6766\n",
            "Epoch 16/40\n",
            "7/6 [===============================] - 0s 28ms/step - loss: 1.5052 - acc: 0.5248 - val_loss: 1.2081 - val_acc: 0.6407\n",
            "Epoch 17/40\n",
            "7/6 [===============================] - 0s 30ms/step - loss: 1.3795 - acc: 0.5429 - val_loss: 1.1409 - val_acc: 0.6886\n",
            "Epoch 18/40\n",
            "7/6 [===============================] - 0s 30ms/step - loss: 1.3349 - acc: 0.5850 - val_loss: 1.0626 - val_acc: 0.7066\n",
            "Epoch 19/40\n",
            "7/6 [===============================] - 0s 27ms/step - loss: 1.2412 - acc: 0.6226 - val_loss: 1.0867 - val_acc: 0.7006\n",
            "Epoch 20/40\n",
            "7/6 [===============================] - 0s 27ms/step - loss: 1.2940 - acc: 0.5744 - val_loss: 1.0225 - val_acc: 0.7066\n",
            "Epoch 21/40\n",
            "7/6 [===============================] - 0s 28ms/step - loss: 1.1606 - acc: 0.6195 - val_loss: 0.9932 - val_acc: 0.7126\n",
            "Epoch 22/40\n",
            "7/6 [===============================] - 0s 33ms/step - loss: 1.0954 - acc: 0.6526 - val_loss: 0.9378 - val_acc: 0.7365\n",
            "Epoch 23/40\n",
            "7/6 [===============================] - 0s 25ms/step - loss: 1.1796 - acc: 0.5940 - val_loss: 0.9763 - val_acc: 0.7186\n",
            "Epoch 24/40\n",
            "7/6 [===============================] - 0s 36ms/step - loss: 1.0471 - acc: 0.6677 - val_loss: 0.9304 - val_acc: 0.7365\n",
            "Epoch 25/40\n",
            "7/6 [===============================] - 0s 28ms/step - loss: 0.9978 - acc: 0.6917 - val_loss: 0.9065 - val_acc: 0.7545\n",
            "Epoch 26/40\n",
            "7/6 [===============================] - 0s 29ms/step - loss: 1.0033 - acc: 0.6632 - val_loss: 0.8629 - val_acc: 0.7725\n",
            "Epoch 27/40\n",
            "7/6 [===============================] - 0s 31ms/step - loss: 1.0020 - acc: 0.6782 - val_loss: 0.8821 - val_acc: 0.7545\n",
            "Epoch 28/40\n",
            "7/6 [===============================] - 0s 27ms/step - loss: 0.9599 - acc: 0.6917 - val_loss: 0.8471 - val_acc: 0.7784\n",
            "Epoch 29/40\n",
            "7/6 [===============================] - 0s 26ms/step - loss: 0.8349 - acc: 0.7263 - val_loss: 0.7992 - val_acc: 0.7964\n",
            "Epoch 30/40\n",
            "7/6 [===============================] - 0s 29ms/step - loss: 0.9202 - acc: 0.6992 - val_loss: 0.8273 - val_acc: 0.7844\n",
            "Epoch 31/40\n",
            "7/6 [===============================] - 0s 28ms/step - loss: 0.8722 - acc: 0.7083 - val_loss: 0.8487 - val_acc: 0.7904\n",
            "Epoch 32/40\n",
            "7/6 [===============================] - 0s 31ms/step - loss: 0.7860 - acc: 0.7308 - val_loss: 0.8209 - val_acc: 0.7665\n",
            "Epoch 33/40\n",
            "7/6 [===============================] - 0s 27ms/step - loss: 0.7468 - acc: 0.7564 - val_loss: 0.8056 - val_acc: 0.7784\n",
            "Epoch 34/40\n",
            "7/6 [===============================] - 0s 26ms/step - loss: 0.7093 - acc: 0.7654 - val_loss: 0.8337 - val_acc: 0.7545\n",
            "Epoch 35/40\n",
            "7/6 [===============================] - 0s 27ms/step - loss: 0.7771 - acc: 0.7549 - val_loss: 0.7593 - val_acc: 0.7605\n",
            "Epoch 36/40\n",
            "7/6 [===============================] - 0s 28ms/step - loss: 0.7083 - acc: 0.7564 - val_loss: 0.7685 - val_acc: 0.7844\n",
            "Epoch 37/40\n",
            "7/6 [===============================] - 0s 29ms/step - loss: 0.7375 - acc: 0.7519 - val_loss: 0.7453 - val_acc: 0.7964\n",
            "Epoch 38/40\n",
            "7/6 [===============================] - 0s 27ms/step - loss: 0.6724 - acc: 0.7654 - val_loss: 0.7596 - val_acc: 0.7784\n",
            "Epoch 39/40\n",
            "7/6 [===============================] - 0s 27ms/step - loss: 0.6526 - acc: 0.7940 - val_loss: 0.8044 - val_acc: 0.7725\n",
            "Epoch 40/40\n",
            "7/6 [===============================] - 0s 28ms/step - loss: 0.6343 - acc: 0.7714 - val_loss: 0.7465 - val_acc: 0.7904\n",
            "CNN Error: 20.96%\n"
          ],
          "name": "stdout"
        }
      ]
    },
    {
      "cell_type": "code",
      "metadata": {
        "id": "clAMLC8l2ki6",
        "colab_type": "code",
        "outputId": "c45086b2-51b2-4f19-94a5-cd51e7c924d4",
        "colab": {
          "base_uri": "https://localhost:8080/",
          "height": 301
        }
      },
      "source": [
        "plt.plot(history.history['acc'], label='Train Accuracy')\n",
        "plt.plot(history.history['val_acc'], label='Validation Accuracy')\n",
        "plt.xlabel('Epochs')\n",
        "plt.ylabel('Accuracy')\n",
        "plt.legend()"
      ],
      "execution_count": 0,
      "outputs": [
        {
          "output_type": "execute_result",
          "data": {
            "text/plain": [
              "<matplotlib.legend.Legend at 0x7fe1af947400>"
            ]
          },
          "metadata": {
            "tags": []
          },
          "execution_count": 110
        },
        {
          "output_type": "display_data",
          "data": {
            "image/png": "[encoded data removed]",
            "text/plain": [
              "<Figure size 432x288 with 1 Axes>"
            ]
          },
          "metadata": {
            "tags": []
          }
        }
      ]
    },
    {
      "cell_type": "code",
      "metadata": {
        "id": "elAmjje0JjAg",
        "colab_type": "code",
        "colab": {}
      },
      "source": [
        "model_lenet5 = 'modelo_CNN1_own.h5'\n",
        "model_CNN1.save(model_lenet5)"
      ],
      "execution_count": 0,
      "outputs": []
    },
    {
      "cell_type": "code",
      "metadata": {
        "colab_type": "code",
        "id": "T1W68CkZ3eah",
        "colab": {}
      },
      "source": [
        "\n",
        "#Para cargar el modelo\n",
        "with CustomObjectScope({'GlorotUniform': glorot_uniform()}):\n",
        "        model_loaded = load_model('/content/drive/My Drive/Colab Notebooks/Proyecto_VC/modelo_CNN1_own3.h5')"
      ],
      "execution_count": 0,
      "outputs": []
    },
    {
      "cell_type": "code",
      "metadata": {
        "colab_type": "code",
        "outputId": "a853bf72-4315-4e50-9ffb-35cbad4e2dba",
        "id": "FE1Xpc1s3eZs",
        "colab": {
          "base_uri": "https://localhost:8080/",
          "height": 35
        }
      },
      "source": [
        "# evaluate loaded model on test data\n",
        "model_loaded.compile(loss='categorical_crossentropy', optimizer='adam', metrics=['accuracy'])\n",
        "score = model_loaded.evaluate(X_test, y_test, verbose=0)\n",
        "print(\"%s: %.2f%%\" % (\"Accuracy:\", score[1]*100))"
      ],
      "execution_count": 0,
      "outputs": [
        {
          "output_type": "stream",
          "text": [
            "Accuracy:: 95.21%\n"
          ],
          "name": "stdout"
        }
      ]
    },
    {
      "cell_type": "markdown",
      "metadata": {
        "id": "X26rzf_xNB4Q",
        "colab_type": "text"
      },
      "source": [
        "## ***DEEP FEATURES:***"
      ]
    },
    {
      "cell_type": "code",
      "metadata": {
        "id": "NcG9FOcixaRW",
        "colab_type": "code",
        "colab": {}
      },
      "source": [
        "arr_h_train = []\n",
        "arr_h_test = []\n",
        "\n",
        "\n",
        "\n",
        "\n",
        "\n",
        "for i in X_train: \n",
        "    im_ = cv.resize(i,(28,28))\n",
        "    im_ = tf.contrib.keras.preprocessing.image.img_to_array(im_)\n",
        "    im_ = np.expand_dims(im_, axis=0);\n",
        "    arr_h_train.append(im_)\n",
        "  \n",
        "\n",
        "\n",
        "for i in X_test: \n",
        "    im_ = cv.resize(i,(28,28))\n",
        "    im_ = tf.contrib.keras.preprocessing.image.img_to_array(im_)\n",
        "    im_ = np.expand_dims(im_, axis=0);\n",
        "    arr_h_test.append(im_)"
      ],
      "execution_count": 0,
      "outputs": []
    },
    {
      "cell_type": "code",
      "metadata": {
        "id": "S7DJE4EDwlGn",
        "colab_type": "code",
        "colab": {}
      },
      "source": [
        "arr_h_train = np.array(arr_h_train)\n",
        "arr_h_test = np.array(arr_h_test)"
      ],
      "execution_count": 0,
      "outputs": []
    },
    {
      "cell_type": "code",
      "metadata": {
        "id": "1nlhq98K0m-l",
        "colab_type": "code",
        "colab": {}
      },
      "source": [
        "model_df = tf.keras.models.Model(inputs=model_loaded.input, \n",
        "                        outputs=model_loaded.get_layer('conv2d_59').output)"
      ],
      "execution_count": 0,
      "outputs": []
    },
    {
      "cell_type": "code",
      "metadata": {
        "colab_type": "code",
        "id": "sGOeyZamPlAF",
        "colab": {}
      },
      "source": [
        "new_train=[]\n",
        "new_test=[]\n",
        "for i in arr_h_train: \n",
        "    features = model_df.predict(i)\n",
        "    f=features[0,:,:]\n",
        "    f = f.reshape(64,14,14) \n",
        "    ima=[]\n",
        "    for j in f:\n",
        "        m=j.reshape(14*14) \n",
        "        ima.append(m)\n",
        "    \n",
        "    new_train.append(np.concatenate((ima), axis=0))\n",
        "   \n",
        "    \n",
        "\n",
        "for i in arr_h_test: \n",
        "   \n",
        "    features = model_df.predict(i)\n",
        "    f=features[0,:,:]\n",
        "    f = f.reshape(64,14,14) \n",
        "    ima=[]\n",
        "    for j in f:\n",
        "        m=j.reshape(14*14) \n",
        "        ima.append(m)\n",
        "    \n",
        "    new_test.append(np.concatenate((ima), axis=0))\n",
        "\n"
      ],
      "execution_count": 0,
      "outputs": []
    },
    {
      "cell_type": "code",
      "metadata": {
        "id": "ltaqvBgF8v7i",
        "colab_type": "code",
        "colab": {}
      },
      "source": [
        "new_train=np.r_[new_train]\n",
        "new_test=np.r_[new_test]"
      ],
      "execution_count": 0,
      "outputs": []
    },
    {
      "cell_type": "code",
      "metadata": {
        "id": "mxNLkG9Y-IVv",
        "colab_type": "code",
        "colab": {}
      },
      "source": [
        "pca=PCA(n_components=400)\n",
        "x_train = pca.fit_transform(new_train)\n",
        "x_test = pca.transform (new_test)"
      ],
      "execution_count": 0,
      "outputs": []
    },
    {
      "cell_type": "code",
      "metadata": {
        "id": "Y-uuD3bhCaYC",
        "colab_type": "code",
        "outputId": "83e8d062-5561-4cd8-c1c6-d98696717dba",
        "colab": {
          "base_uri": "https://localhost:8080/",
          "height": 54
        }
      },
      "source": [
        "print(x_test.shape)\n",
        "print(x_train.shape)"
      ],
      "execution_count": 0,
      "outputs": [
        {
          "output_type": "stream",
          "text": [
            "(167, 400)\n",
            "(665, 400)\n"
          ],
          "name": "stdout"
        }
      ]
    },
    {
      "cell_type": "code",
      "metadata": {
        "id": "6pkuhe2R_953",
        "colab_type": "code",
        "colab": {}
      },
      "source": [
        "x_train = x_train.reshape([-1,400,1, 1])\n",
        "x_test = x_test.reshape([-1, 400,1, 1])\n",
        "x_train = x_train.astype('float32')\n",
        "x_test = x_test.astype('float32')\n",
        "x_test /= 255\n",
        "x_train /= 255\n"
      ],
      "execution_count": 0,
      "outputs": []
    },
    {
      "cell_type": "code",
      "metadata": {
        "id": "v1ke3D6BClzs",
        "colab_type": "code",
        "outputId": "fc2257da-92a2-4d76-91c0-8c023f6267d9",
        "colab": {
          "base_uri": "https://localhost:8080/",
          "height": 54
        }
      },
      "source": [
        "print(x_test.shape)\n",
        "print(x_train.shape)"
      ],
      "execution_count": 0,
      "outputs": [
        {
          "output_type": "stream",
          "text": [
            "(167, 400, 1, 1)\n",
            "(665, 400, 1, 1)\n"
          ],
          "name": "stdout"
        }
      ]
    },
    {
      "cell_type": "code",
      "metadata": {
        "id": "E4ALUYeyvKXd",
        "colab_type": "code",
        "outputId": "9ea0485a-0b67-4d67-c5aa-17ddb7625310",
        "colab": {
          "base_uri": "https://localhost:8080/",
          "height": 348
        }
      },
      "source": [
        "model = tf.keras.models.Sequential()\n",
        "model.add(tf.keras.layers.Flatten( input_shape=[400, 1, 1]))\n",
        "model.add(tf.keras.layers.Dense(units=300, activation='sigmoid'))\n",
        "model.add(tf.keras.layers.Dense(units=200, activation='sigmoid'))\n",
        "model.add(tf.keras.layers.Dense(units=100, activation='sigmoid'))\n",
        "model.add(tf.keras.layers.Dense(units=27, activation='softmax'))\n",
        "model.summary()"
      ],
      "execution_count": 0,
      "outputs": [
        {
          "output_type": "stream",
          "text": [
            "Model: \"sequential_17\"\n",
            "_________________________________________________________________\n",
            "Layer (type)                 Output Shape              Param #   \n",
            "=================================================================\n",
            "flatten_17 (Flatten)         (None, 400)               0         \n",
            "_________________________________________________________________\n",
            "dense_81 (Dense)             (None, 300)               120300    \n",
            "_________________________________________________________________\n",
            "dense_82 (Dense)             (None, 200)               60200     \n",
            "_________________________________________________________________\n",
            "dense_83 (Dense)             (None, 100)               20100     \n",
            "_________________________________________________________________\n",
            "dense_84 (Dense)             (None, 27)                2727      \n",
            "=================================================================\n",
            "Total params: 203,327\n",
            "Trainable params: 203,327\n",
            "Non-trainable params: 0\n",
            "_________________________________________________________________\n"
          ],
          "name": "stdout"
        }
      ]
    },
    {
      "cell_type": "code",
      "metadata": {
        "id": "3Omj8fCo_dzZ",
        "colab_type": "code",
        "outputId": "92c2a363-16a6-43ce-abbd-6166c8165928",
        "colab": {
          "base_uri": "https://localhost:8080/",
          "height": 423
        }
      },
      "source": [
        "model.compile(optimizer='adam',\n",
        "              loss='sparse_categorical_crossentropy',\n",
        "              metrics=['accuracy'])\n",
        "history = model.fit(x_train, y_train,epochs=10, batch_size=100, validation_data=(x_test, y_test))"
      ],
      "execution_count": 0,
      "outputs": [
        {
          "output_type": "stream",
          "text": [
            "Train on 665 samples, validate on 167 samples\n",
            "Epoch 1/10\n",
            "665/665 [==============================] - 2s 2ms/sample - loss: 0.0851 - acc: 0.9504 - val_loss: 5.0959 - val_acc: 0.2395\n",
            "Epoch 2/10\n",
            "665/665 [==============================] - 0s 115us/sample - loss: 0.0737 - acc: 0.9564 - val_loss: 5.2153 - val_acc: 0.2216\n",
            "Epoch 3/10\n",
            "665/665 [==============================] - 0s 104us/sample - loss: 0.0706 - acc: 0.9594 - val_loss: 5.1781 - val_acc: 0.2335\n",
            "Epoch 4/10\n",
            "665/665 [==============================] - 0s 120us/sample - loss: 0.0698 - acc: 0.9579 - val_loss: 5.1642 - val_acc: 0.2335\n",
            "Epoch 5/10\n",
            "665/665 [==============================] - 0s 100us/sample - loss: 0.0690 - acc: 0.9594 - val_loss: 5.1810 - val_acc: 0.2395\n",
            "Epoch 6/10\n",
            "665/665 [==============================] - 0s 108us/sample - loss: 0.0674 - acc: 0.9609 - val_loss: 5.1393 - val_acc: 0.2275\n",
            "Epoch 7/10\n",
            "665/665 [==============================] - 0s 129us/sample - loss: 0.0656 - acc: 0.9594 - val_loss: 5.1949 - val_acc: 0.2335\n",
            "Epoch 8/10\n",
            "665/665 [==============================] - 0s 114us/sample - loss: 0.0665 - acc: 0.9564 - val_loss: 5.1941 - val_acc: 0.2275\n",
            "Epoch 9/10\n",
            "665/665 [==============================] - 0s 118us/sample - loss: 0.0665 - acc: 0.9594 - val_loss: 5.2055 - val_acc: 0.2335\n",
            "Epoch 10/10\n",
            "665/665 [==============================] - 0s 117us/sample - loss: 0.0666 - acc: 0.9594 - val_loss: 5.2370 - val_acc: 0.2395\n"
          ],
          "name": "stdout"
        }
      ]
    },
    {
      "cell_type": "markdown",
      "metadata": {
        "id": "656eaN00LLDG",
        "colab_type": "text"
      },
      "source": [
        "## ***TRANSFER LEARNING:***"
      ]
    },
    {
      "cell_type": "code",
      "metadata": {
        "id": "_YKAoeL_R8ci",
        "colab_type": "code",
        "colab": {}
      },
      "source": [
        "\n",
        "#Para cargar el modelo\n",
        "with CustomObjectScope({'GlorotUniform': glorot_uniform()}):\n",
        "        model_MNIST = load_model('/content/drive/My Drive/Colab Notebooks/Proyecto_VC/modelo_CNN_MNIST.h5')"
      ],
      "execution_count": 0,
      "outputs": []
    },
    {
      "cell_type": "code",
      "metadata": {
        "id": "5sjpOgDdSIe4",
        "colab_type": "code",
        "colab": {}
      },
      "source": [
        "# evaluate loaded model on test data\n",
        "model_MNIST.compile(loss='categorical_crossentropy', optimizer='adam', metrics=['accuracy'])\n"
      ],
      "execution_count": 0,
      "outputs": []
    },
    {
      "cell_type": "code",
      "metadata": {
        "id": "vQs9mPa1SRHW",
        "colab_type": "code",
        "outputId": "cc91a290-9fb9-4738-90c0-9723397e3ab5",
        "colab": {
          "base_uri": "https://localhost:8080/",
          "height": 1000
        }
      },
      "source": [
        "history= model_MNIST.fit(X_train, y_train, validation_data=(X_test, y_test), epochs=50, batch_size=100, verbose=1)"
      ],
      "execution_count": 0,
      "outputs": [
        {
          "output_type": "stream",
          "text": [
            "Train on 665 samples, validate on 167 samples\n",
            "Epoch 1/50\n",
            "665/665 [==============================] - 0s 534us/sample - loss: 1.2483 - acc: 0.7714 - val_loss: 0.5563 - val_acc: 0.8503\n",
            "Epoch 2/50\n",
            "665/665 [==============================] - 0s 116us/sample - loss: 0.7265 - acc: 0.8481 - val_loss: 0.4401 - val_acc: 0.8802\n",
            "Epoch 3/50\n",
            "665/665 [==============================] - 0s 115us/sample - loss: 0.4066 - acc: 0.9008 - val_loss: 0.4050 - val_acc: 0.8802\n",
            "Epoch 4/50\n",
            "665/665 [==============================] - 0s 110us/sample - loss: 0.2881 - acc: 0.9248 - val_loss: 0.3521 - val_acc: 0.8982\n",
            "Epoch 5/50\n",
            "665/665 [==============================] - 0s 118us/sample - loss: 0.2145 - acc: 0.9414 - val_loss: 0.3461 - val_acc: 0.9042\n",
            "Epoch 6/50\n",
            "665/665 [==============================] - 0s 117us/sample - loss: 0.1383 - acc: 0.9594 - val_loss: 0.3516 - val_acc: 0.8862\n",
            "Epoch 7/50\n",
            "665/665 [==============================] - 0s 112us/sample - loss: 0.0961 - acc: 0.9654 - val_loss: 0.3472 - val_acc: 0.8982\n",
            "Epoch 8/50\n",
            "665/665 [==============================] - 0s 113us/sample - loss: 0.0633 - acc: 0.9865 - val_loss: 0.3378 - val_acc: 0.9042\n",
            "Epoch 9/50\n",
            "665/665 [==============================] - 0s 114us/sample - loss: 0.0515 - acc: 0.9895 - val_loss: 0.3409 - val_acc: 0.9042\n",
            "Epoch 10/50\n",
            "665/665 [==============================] - 0s 118us/sample - loss: 0.0441 - acc: 0.9925 - val_loss: 0.3449 - val_acc: 0.9102\n",
            "Epoch 11/50\n",
            "665/665 [==============================] - 0s 118us/sample - loss: 0.0314 - acc: 0.9925 - val_loss: 0.3513 - val_acc: 0.9042\n",
            "Epoch 12/50\n",
            "665/665 [==============================] - 0s 111us/sample - loss: 0.0322 - acc: 0.9925 - val_loss: 0.3703 - val_acc: 0.8922\n",
            "Epoch 13/50\n",
            "665/665 [==============================] - 0s 113us/sample - loss: 0.0311 - acc: 0.9925 - val_loss: 0.3809 - val_acc: 0.8922\n",
            "Epoch 14/50\n",
            "665/665 [==============================] - 0s 112us/sample - loss: 0.0266 - acc: 0.9955 - val_loss: 0.3750 - val_acc: 0.8982\n",
            "Epoch 15/50\n",
            "665/665 [==============================] - 0s 114us/sample - loss: 0.0138 - acc: 0.9985 - val_loss: 0.3675 - val_acc: 0.9042\n",
            "Epoch 16/50\n",
            "665/665 [==============================] - 0s 114us/sample - loss: 0.0121 - acc: 1.0000 - val_loss: 0.3694 - val_acc: 0.9042\n",
            "Epoch 17/50\n",
            "665/665 [==============================] - 0s 112us/sample - loss: 0.0134 - acc: 1.0000 - val_loss: 0.3843 - val_acc: 0.9042\n",
            "Epoch 18/50\n",
            "665/665 [==============================] - 0s 115us/sample - loss: 0.0110 - acc: 0.9985 - val_loss: 0.3927 - val_acc: 0.9042\n",
            "Epoch 19/50\n",
            "665/665 [==============================] - 0s 117us/sample - loss: 0.0095 - acc: 1.0000 - val_loss: 0.3958 - val_acc: 0.9042\n",
            "Epoch 20/50\n",
            "665/665 [==============================] - 0s 112us/sample - loss: 0.0089 - acc: 0.9970 - val_loss: 0.4004 - val_acc: 0.9042\n",
            "Epoch 21/50\n",
            "665/665 [==============================] - 0s 117us/sample - loss: 0.0102 - acc: 0.9985 - val_loss: 0.3930 - val_acc: 0.9042\n",
            "Epoch 22/50\n",
            "665/665 [==============================] - 0s 112us/sample - loss: 0.0094 - acc: 0.9985 - val_loss: 0.3953 - val_acc: 0.8982\n",
            "Epoch 23/50\n",
            "665/665 [==============================] - 0s 133us/sample - loss: 0.0065 - acc: 1.0000 - val_loss: 0.3997 - val_acc: 0.8982\n",
            "Epoch 24/50\n",
            "665/665 [==============================] - 0s 115us/sample - loss: 0.0068 - acc: 1.0000 - val_loss: 0.4107 - val_acc: 0.8982\n",
            "Epoch 25/50\n",
            "665/665 [==============================] - 0s 116us/sample - loss: 0.0072 - acc: 0.9985 - val_loss: 0.4148 - val_acc: 0.8862\n",
            "Epoch 26/50\n",
            "665/665 [==============================] - 0s 127us/sample - loss: 0.0050 - acc: 1.0000 - val_loss: 0.4038 - val_acc: 0.8982\n",
            "Epoch 27/50\n",
            "665/665 [==============================] - 0s 116us/sample - loss: 0.0042 - acc: 1.0000 - val_loss: 0.3985 - val_acc: 0.8982\n",
            "Epoch 28/50\n",
            "665/665 [==============================] - 0s 118us/sample - loss: 0.0049 - acc: 1.0000 - val_loss: 0.4024 - val_acc: 0.9042\n",
            "Epoch 29/50\n",
            "665/665 [==============================] - 0s 112us/sample - loss: 0.0036 - acc: 1.0000 - val_loss: 0.4102 - val_acc: 0.9042\n",
            "Epoch 30/50\n",
            "665/665 [==============================] - 0s 125us/sample - loss: 0.0032 - acc: 1.0000 - val_loss: 0.4149 - val_acc: 0.9042\n",
            "Epoch 31/50\n",
            "665/665 [==============================] - 0s 123us/sample - loss: 0.0021 - acc: 1.0000 - val_loss: 0.4141 - val_acc: 0.9042\n",
            "Epoch 32/50\n",
            "665/665 [==============================] - 0s 126us/sample - loss: 0.0054 - acc: 1.0000 - val_loss: 0.4150 - val_acc: 0.9042\n",
            "Epoch 33/50\n",
            "665/665 [==============================] - 0s 119us/sample - loss: 0.0026 - acc: 1.0000 - val_loss: 0.4181 - val_acc: 0.9042\n",
            "Epoch 34/50\n",
            "665/665 [==============================] - 0s 116us/sample - loss: 0.0060 - acc: 0.9970 - val_loss: 0.4145 - val_acc: 0.8982\n",
            "Epoch 35/50\n",
            "665/665 [==============================] - 0s 134us/sample - loss: 0.0041 - acc: 0.9985 - val_loss: 0.4142 - val_acc: 0.8922\n",
            "Epoch 36/50\n",
            "665/665 [==============================] - 0s 114us/sample - loss: 0.0049 - acc: 0.9985 - val_loss: 0.4231 - val_acc: 0.8922\n",
            "Epoch 37/50\n",
            "665/665 [==============================] - 0s 115us/sample - loss: 0.0039 - acc: 1.0000 - val_loss: 0.4315 - val_acc: 0.8922\n",
            "Epoch 38/50\n",
            "665/665 [==============================] - 0s 120us/sample - loss: 0.0048 - acc: 1.0000 - val_loss: 0.4359 - val_acc: 0.8982\n",
            "Epoch 39/50\n",
            "665/665 [==============================] - 0s 113us/sample - loss: 0.0037 - acc: 1.0000 - val_loss: 0.4319 - val_acc: 0.8982\n",
            "Epoch 40/50\n",
            "665/665 [==============================] - 0s 115us/sample - loss: 0.0022 - acc: 1.0000 - val_loss: 0.4246 - val_acc: 0.8982\n",
            "Epoch 41/50\n",
            "665/665 [==============================] - 0s 113us/sample - loss: 0.0019 - acc: 1.0000 - val_loss: 0.4303 - val_acc: 0.8982\n",
            "Epoch 42/50\n",
            "665/665 [==============================] - 0s 116us/sample - loss: 0.0021 - acc: 1.0000 - val_loss: 0.4424 - val_acc: 0.8982\n",
            "Epoch 43/50\n",
            "665/665 [==============================] - 0s 127us/sample - loss: 0.0020 - acc: 1.0000 - val_loss: 0.4489 - val_acc: 0.8982\n",
            "Epoch 44/50\n",
            "665/665 [==============================] - 0s 120us/sample - loss: 0.0029 - acc: 1.0000 - val_loss: 0.4509 - val_acc: 0.8982\n",
            "Epoch 45/50\n",
            "665/665 [==============================] - 0s 116us/sample - loss: 0.0044 - acc: 0.9985 - val_loss: 0.4448 - val_acc: 0.8982\n",
            "Epoch 46/50\n",
            "665/665 [==============================] - 0s 116us/sample - loss: 0.0030 - acc: 1.0000 - val_loss: 0.4420 - val_acc: 0.8922\n",
            "Epoch 47/50\n",
            "665/665 [==============================] - 0s 131us/sample - loss: 0.0017 - acc: 1.0000 - val_loss: 0.4374 - val_acc: 0.8982\n",
            "Epoch 48/50\n",
            "665/665 [==============================] - 0s 117us/sample - loss: 0.0028 - acc: 1.0000 - val_loss: 0.4347 - val_acc: 0.8982\n",
            "Epoch 49/50\n",
            "665/665 [==============================] - 0s 118us/sample - loss: 0.0016 - acc: 1.0000 - val_loss: 0.4484 - val_acc: 0.8982\n",
            "Epoch 50/50\n",
            "665/665 [==============================] - 0s 126us/sample - loss: 0.0025 - acc: 1.0000 - val_loss: 0.4673 - val_acc: 0.8982\n"
          ],
          "name": "stdout"
        }
      ]
    },
    {
      "cell_type": "code",
      "metadata": {
        "id": "uPp3hLCdSRXO",
        "colab_type": "code",
        "outputId": "310bfa08-0a04-4bda-a9de-0624a08a5c25",
        "colab": {
          "base_uri": "https://localhost:8080/",
          "height": 301
        }
      },
      "source": [
        "plt.plot(history.history['acc'], label='Train Accuracy')\n",
        "plt.plot(history.history['val_acc'], label='Validation Accuracy')\n",
        "plt.xlabel('Epochs')\n",
        "plt.ylabel('Accuracy')\n",
        "plt.legend()"
      ],
      "execution_count": 0,
      "outputs": [
        {
          "output_type": "execute_result",
          "data": {
            "text/plain": [
              "<matplotlib.legend.Legend at 0x7fe2006bf278>"
            ]
          },
          "metadata": {
            "tags": []
          },
          "execution_count": 70
        },
        {
          "output_type": "display_data",
          "data": {
            "image/png": "[encoded data removed]",
            "text/plain": [
              "<Figure size 432x288 with 1 Axes>"
            ]
          },
          "metadata": {
            "tags": []
          }
        }
      ]
    },
    {
      "cell_type": "code",
      "metadata": {
        "id": "tqk7EyCxNlxI",
        "colab_type": "code",
        "outputId": "b1d2b676-51a0-40eb-eb8b-83b9a1c7e439",
        "colab": {
          "base_uri": "https://localhost:8080/",
          "height": 35
        }
      },
      "source": [
        "# evaluate loaded model on test data\n",
        "\n",
        "score = model_MNIST.evaluate(X_test, y_test, verbose=0)\n",
        "print(\"%s: %.2f%%\" % (\"Accuracy:\", score[1]*100))"
      ],
      "execution_count": 0,
      "outputs": [
        {
          "output_type": "stream",
          "text": [
            "Accuracy:: 89.82%\n"
          ],
          "name": "stdout"
        }
      ]
    },
    {
      "cell_type": "markdown",
      "metadata": {
        "id": "n4OkUdwAGRfe",
        "colab_type": "text"
      },
      "source": [
        "# **PROCESAMIENTO DE IMAGENES A EVALUAR**"
      ]
    },
    {
      "cell_type": "code",
      "metadata": {
        "id": "Owqru-GBcwBI",
        "colab_type": "code",
        "colab": {}
      },
      "source": [
        "def morfologia1(gray):\n",
        "        gray2 = cv2.medianBlur (gray, 55)\n",
        "        kernel1= cv2 . getStructuringElement ( cv2 . MORPH_ELLIPSE , ( 7, 7 )) \n",
        "        #kernel2= cv2 . getStructuringElement ( cv2 . MORPH_ELLIPSE , ( 4 , 4 )) \n",
        "        kernel4= cv2 . getStructuringElement ( cv2 . MORPH_ELLIPSE , (25 ,25 )) \n",
        "\n",
        "\n",
        "        th3 = cv2.adaptiveThreshold (gray2, 255, cv2.ADAPTIVE_THRESH_GAUSSIAN_C, \\\n",
        "                    cv2.THRESH_BINARY_INV, 47,2)\n",
        "\n",
        "        #Erosión:\n",
        "        kernel = np.ones((2,2),np.uint8)\n",
        "        erosion = cv2.erode(th3,kernel,iterations = 1)\n",
        "\n",
        "        #Apertura:\n",
        "        apertura = cv2.morphologyEx(erosion, cv2.MORPH_OPEN, kernel1)\n",
        "\n",
        "        #Dilatación:\n",
        "        dilatacion2 = cv2.dilate(apertura,kernel4,iterations = 1)\n",
        "\n",
        "        #Cierre\n",
        "        kernel3  =  np . ones ((20,20), np . uint8 )\n",
        "        cierre  =  cv2.morphologyEx(dilatacion2, cv2.MORPH_CLOSE, kernel3)\n",
        "\n",
        "        #Erosión\n",
        "        kernel5 = np.ones((5,5),np.uint8)\n",
        "        erosion = cv2.erode(cierre ,kernel5,iterations = 1)\n",
        "\n",
        "        plt.imshow(erosion,cmap = plt.cm.gray)\n",
        "        im2, contornos, jerarquía = cv2.findContours (erosion,cv2.RETR_TREE,cv2.CHAIN_APPROX_SIMPLE)\n",
        "\n",
        "\n",
        "\n",
        "        #Contornos\n",
        "        contornos=np.r_[contornos]\n",
        "\n",
        "\n",
        "        limites= []\n",
        "        areas=[]\n",
        "        for i in range(len(contornos)):\n",
        "          #Señalar los limites del rextangulo, xInit, yInit, xEnd, fEnd\n",
        "              l= cv2.boundingRect(contornos[i])\n",
        "              lx=abs(l[0]-l[2])\n",
        "              ly=abs(l[1]-l[3])\n",
        "              if (lx==l[2]):\n",
        "                continue\n",
        "              elif(ly==l[3]):\n",
        "                continue\n",
        "              else:\n",
        "                limites.append(l)\n",
        "                puntos= l\n",
        "                puntox1= puntos[0]\n",
        "                puntox2=puntos[2]\n",
        "                puntoy1= puntos[1]\n",
        "                puntoy2= puntos[3]\n",
        "                base= (puntox2-puntox1)\n",
        "                altura= (puntoy2-puntoy1)\n",
        "                areas.append(abs(base*altura))\n",
        "        limites=np.r_[limites]      \n",
        "        print (limites)\n",
        "\n",
        "\n",
        "        #Graficar\n",
        "        fig= plt.figure(figsize=(10,10))\n",
        "        images=[]\n",
        "        for i in range(len(limites)):\n",
        "                ax=fig.add_subplot(1,len(limites),i+1)\n",
        "                zona=limites[i]\n",
        "                f_image2=gray[int(zona[1]):int(zona[1]+zona[3]),int(zona[0]):int(zona[0]+zona[2])]\n",
        "                plt.imshow(f_image2,cmap = plt.cm.gray)\n",
        "                images.append(f_image2)\n",
        "\n",
        "\n",
        "\n",
        "\n",
        "\n",
        "        #Eliminar ruido 1    \n",
        "        c=0  \n",
        "        arreglo=list()\n",
        "        while c< limites.shape[0]:\n",
        "\n",
        "              for i in range(limites.shape[0]):\n",
        "                if c != i:\n",
        "\n",
        "                  if (limites[c,2]+limites[c,0])<= (limites[i,2]+limites[i,0]) and limites[c,0]>= limites[i,0] and (limites[c,3]+limites[c,1])<= (limites[i,3]+limites[i,1]) and limites[c,1]>= limites[i,1]:\n",
        "\n",
        "                      arreglo.append(c)\n",
        "\n",
        "\n",
        "                  else:\n",
        "                    continue\n",
        "                else:\n",
        "                     continue\n",
        "\n",
        "              c=c+1\n",
        "\n",
        "\n",
        "\n",
        "\n",
        "\n",
        "\n",
        "        #Imagenes a eliminar\n",
        "        arreglo\n",
        "        a=len(arreglo)\n",
        "        resta=limites.shape[0] - a\n",
        "\n",
        "        #Modifica el vector limites\n",
        "        limites_c=np.array(limites,dtype=bool)\n",
        "        limites_c[arreglo]=False\n",
        "        limites=limites[limites_c]\n",
        "        limites=limites.reshape((resta,4))\n",
        "\n",
        "\n",
        "\n",
        "        #Graficar\n",
        "        #fig= plt.figure(figsize=(20,20))\n",
        "        images=[]\n",
        "        for i in range(len(limites)):\n",
        "        #        ax=fig.add_subplot(1,len(limites),i+1)\n",
        "                zona=limites[i]\n",
        "                f_image2=gray[int(zona[1]-8):int(zona[1]+zona[3]+8),int(zona[0]-8):int(zona[0]+zona[2]+8)]\n",
        "               # plt.imshow(f_image2,cmap = plt.cm.gray)\n",
        "                images.append(f_image2)\n",
        "\n",
        "\n",
        "        x_limite=[]\n",
        "        imagesO=[]\n",
        "        for j in range(len(limites)):\n",
        "          puntos= limites[j]\n",
        "          x_limite.append(puntos[0])\n",
        "\n",
        "        lim=np.copy(x_limite)\n",
        "        images=np.r_[images]\n",
        "\n",
        "        c=0\n",
        "        while c <len(lim):\n",
        "            minimo= np.min(x_limite)\n",
        "            ind= lim==minimo  \n",
        "            n=images[ind]\n",
        "            #print(ind)\n",
        "            imagesO.append(n)\n",
        "            x_limite.remove(minimo)\n",
        "            c=c+1\n",
        "\n",
        "        images_f=[]\n",
        "        for k in range(len(imagesO)):\n",
        "          n=imagesO[k]\n",
        "          images_f.append(n[0])\n",
        "\n",
        "        fig= plt.figure(figsize=(10,10))\n",
        "        for i in range(len(images_f)):\n",
        "            ax=fig.add_subplot(1,len(images_f),i+1)\n",
        "            m=images_f[i]\n",
        "            plt.imshow(m,cmap = plt.cm.gray)\n",
        "\n",
        "        data=[]\n",
        "\n",
        "        for i in range(len(images_f)):\n",
        "\n",
        "              x= images_f[i]\n",
        "              m = cv2.resize(x, (28,28), interpolation=cv2.INTER_AREA)  \n",
        "              #Binarización\n",
        "              _, m =  cv2.threshold(m,0,255,cv2.THRESH_BINARY_INV+cv2.THRESH_OTSU)\n",
        "              m=m.reshape(784)\n",
        "              data.append(m)\n",
        "        data= np.r_[data]   \n",
        "        \n",
        "        return data\n",
        "\n",
        "\n"
      ],
      "execution_count": 0,
      "outputs": []
    },
    {
      "cell_type": "code",
      "metadata": {
        "id": "z5YK0OTBxo86",
        "colab_type": "code",
        "colab": {}
      },
      "source": [
        " \n",
        "def morfologia2(gray):\n",
        "  \n",
        "          blur = cv2.GaussianBlur(gray ,(7,7),0)\n",
        "          ret3,th3 = cv2.threshold(blur,0,255,cv2.THRESH_BINARY_INV+cv2.THRESH_OTSU)\n",
        "          plt.imshow(th3,cmap = plt.cm.gray)\n",
        "          kernel1= cv2 . getStructuringElement ( cv2 . MORPH_ELLIPSE , ( 5, 5 )) \n",
        "          kernel4= cv2 . getStructuringElement ( cv2 . MORPH_ELLIPSE , ( 8 ,8 )) \n",
        "\n",
        "          \n",
        "\n",
        "          #Erosión\n",
        "          kernel = np.ones((3,3),np.uint8)\n",
        "          erosion = cv2.erode(th3,kernel,iterations = 1)\n",
        "\n",
        "          #Apertura\n",
        "          apertura = cv2.morphologyEx(erosion, cv2.MORPH_OPEN, kernel1)\n",
        "          plt.imshow(apertura,cmap = plt.cm.gray)\n",
        "\n",
        "          #Dilatación \n",
        "          dilatacion2 = cv2.dilate(apertura,kernel4,iterations = 1)\n",
        "\n",
        "          #Cierre          \n",
        "          kernel1  =  np . ones ((6,6), np . uint8 )\n",
        "          cierre  =  cv2.morphologyEx(dilatacion2, cv2.MORPH_CLOSE, kernel1)\n",
        "\n",
        "          #Erosión\n",
        "          kernel = np.ones((5,5),np.uint8)\n",
        "          erosion = cv2.erode(cierre ,kernel,iterations = 1)\n",
        "          plt.imshow(erosion,cmap = plt.cm.gray)\n",
        "          \n",
        "          #Contornos\n",
        "          im2, contornos, jerarquía = cv2.findContours (erosion,cv2.RETR_TREE,cv2.CHAIN_APPROX_SIMPLE)\n",
        "          contornos=np.r_[contornos]\n",
        "\n",
        "          limites= []\n",
        "          areas=[]\n",
        "          for i in range(len(contornos)):\n",
        "          #Señalar los limites del rextangulo, xInit, yInit, xEnd, fEnd\n",
        "                l= cv2.boundingRect(contornos[i])\n",
        "                lx=abs(l[0]-l[2])\n",
        "                ly=abs(l[1]-l[3])\n",
        "                if (lx==l[2]):\n",
        "                  continue\n",
        "                elif(ly==l[3]):\n",
        "                  continue\n",
        "                else:\n",
        "                  limites.append(l)\n",
        "                  puntos= l\n",
        "                  puntox1= puntos[0]\n",
        "                  puntox2=puntos[2]\n",
        "                  puntoy1= puntos[1]\n",
        "                  puntoy2= puntos[3]\n",
        "                  base= (puntox2-puntox1)\n",
        "                  altura= (puntoy2-puntoy1)\n",
        "                  areas.append(abs(base*altura))\n",
        "          limites=np.r_[limites]      \n",
        "          print (limites)\n",
        "\n",
        "\n",
        "\n",
        "          #Graficar\n",
        "          fig= plt.figure(figsize=(10,10))\n",
        "          images=[]\n",
        "          for i in range(len(limites)):\n",
        "                  ax=fig.add_subplot(1,len(limites),i+1)\n",
        "                  zona=limites[i]\n",
        "                  f_image2=gray[int(zona[1]):int(zona[1]+zona[3]),int(zona[0]):int(zona[0]+zona[2])]\n",
        "                  plt.imshow(f_image2,cmap = plt.cm.gray)\n",
        "                  images.append(f_image2)\n",
        "\n",
        "\n",
        "\n",
        "\n",
        "\n",
        "          #Eliminar ruido    \n",
        "          c=0  \n",
        "          arreglo=list()\n",
        "          while c< limites.shape[0]:\n",
        "\n",
        "                for i in range(limites.shape[0]):\n",
        "                  if c != i:\n",
        "\n",
        "                    if (limites[c,2]+limites[c,0])<= (limites[i,2]+limites[i,0]) and limites[c,0]>= limites[i,0] and (limites[c,3]+limites[c,1])<= (limites[i,3]+limites[i,1]) and limites[c,1]>= limites[i,1]:\n",
        "\n",
        "                        arreglo.append(c)\n",
        "\n",
        "\n",
        "                    else:\n",
        "                      continue\n",
        "                  else:\n",
        "                       continue\n",
        "\n",
        "                c=c+1\n",
        "\n",
        "\n",
        "\n",
        "\n",
        "\n",
        "\n",
        "          #Imagenes a eliminar\n",
        "          arreglo\n",
        "          a=len(arreglo)\n",
        "          resta=limites.shape[0] - a\n",
        "\n",
        "          #Modifica el vector limites\n",
        "          limites_c=np.array(limites,dtype=bool)\n",
        "          limites_c[arreglo]=False\n",
        "          limites=limites[limites_c]\n",
        "          limites=limites.reshape((resta,4))\n",
        "\n",
        "\n",
        "\n",
        "          #Grafica\n",
        "          images=[]\n",
        "          for i in range(len(limites)):\n",
        "                  zona=limites[i]\n",
        "                  f_image2=gray[int(zona[1]-8):int(zona[1]+zona[3]+8),int(zona[0]-8):int(zona[0]+zona[2]+8)]\n",
        "                  images.append(f_image2)\n",
        "\n",
        "          #Ordena el vector de imagenes\n",
        "          x_limite=[]\n",
        "          imagesO=[]\n",
        "          for j in range(len(limites)):\n",
        "            puntos= limites[j]\n",
        "            x_limite.append(puntos[0])\n",
        "\n",
        "          lim=np.copy(x_limite)\n",
        "          images=np.r_[images]\n",
        "\n",
        "          c=0\n",
        "          while c <len(lim):\n",
        "              minimo= np.min(x_limite)\n",
        "              ind= lim==minimo  \n",
        "              n=images[ind]\n",
        "              imagesO.append(n)\n",
        "              x_limite.remove(minimo)\n",
        "              c=c+1\n",
        "\n",
        "          images_f=[]\n",
        "          for k in range(len(imagesO)):\n",
        "            n=imagesO[k]\n",
        "            images_f.append(n[0])\n",
        "\n",
        "          fig= plt.figure(figsize=(10,10))\n",
        "          for i in range(len(images_f)):\n",
        "              ax=fig.add_subplot(1,len(images_f),i+1)\n",
        "              m=images_f[i]\n",
        "              plt.imshow(m,cmap = plt.cm.gray)\n",
        "\n",
        "          data=[]\n",
        "\n",
        "          for i in range(len(images_f)):\n",
        "\n",
        "                x= images_f[i]\n",
        "                m = cv2.resize(x, (28,28), interpolation=cv2.INTER_AREA)  \n",
        "                \n",
        "          #Binarización\n",
        "                _, m =  cv2.threshold(m,0,255,cv2.THRESH_BINARY_INV+cv2.THRESH_OTSU)\n",
        "                m=m.reshape(784)\n",
        "                data.append(m)\n",
        "          data= np.r_[data]   \n",
        "          \n",
        "          return data\n",
        "\n"
      ],
      "execution_count": 0,
      "outputs": []
    },
    {
      "cell_type": "code",
      "metadata": {
        "id": "TYkb2EEPubTv",
        "colab_type": "code",
        "outputId": "308fb936-977a-4353-f2de-d904021ca577",
        "colab": {
          "base_uri": "https://localhost:8080/",
          "height": 629
        }
      },
      "source": [
        "\n",
        "img = cv2.imread('/content/drive/My Drive/Colab Notebooks/Imagenes2/research4.jpeg')\n",
        "gray = cv2.cvtColor(img, cv2.COLOR_BGR2GRAY)\n",
        "hist = cv2.calcHist([gray], [0], None, [256], [0, 256])\n",
        "\n",
        "histOrde=np.zeros((hist.shape[0],1))\n",
        "hist2= np.copy(hist)\n",
        "for i in range(hist.shape[0]):\n",
        "  indMax=np.argmax(hist2)\n",
        "  histOrde[i]=hist2[indMax]\n",
        "  hist2[indMax]=0.0\n",
        "\n",
        "m=np.mean(histOrde[:7])\n",
        "umbral=m-m/10\n",
        "cont=0\n",
        "\n",
        "for i in range(7):\n",
        "  if (histOrde[i] >= umbral):\n",
        "      cont=cont+1\n",
        "if (cont==7):\n",
        "  \n",
        "      data=morfologia1(gray)\n",
        "      print(1)\n",
        "  \n",
        "  \n",
        "  \n",
        "else:\n",
        "      data=morfologia2(gray)\n",
        "      print(2)\n",
        "  \n",
        "  "
      ],
      "execution_count": 0,
      "outputs": [
        {
          "output_type": "stream",
          "text": [
            "[[ 957   73  105  166]\n",
            " [ 545   66   83  156]\n",
            " [ 685   64   87  167]\n",
            " [ 707  101   29   53]\n",
            " [ 429   60   95  157]\n",
            " [ 818   56  114  168]\n",
            " [ 845   77   65   44]\n",
            " [1132   50   87  190]\n",
            " [ 271   48   99  167]\n",
            " [ 123   44  119  179]\n",
            " [ 143   65   79   51]]\n",
            "2\n"
          ],
          "name": "stdout"
        },
        {
          "output_type": "display_data",
          "data": {
            "image/png": "[encoded data removed]",
            "text/plain": [
              "<Figure size 432x288 with 1 Axes>"
            ]
          },
          "metadata": {
            "tags": []
          }
        },
        {
          "output_type": "display_data",
          "data": {
            "image/png": "[encoded data removed]",
            "text/plain": [
              "<Figure size 720x720 with 11 Axes>"
            ]
          },
          "metadata": {
            "tags": []
          }
        },
        {
          "output_type": "display_data",
          "data": {
            "image/png": "[encoded data removed]",
            "text/plain": [
              "<Figure size 720x720 with 8 Axes>"
            ]
          },
          "metadata": {
            "tags": []
          }
        }
      ]
    },
    {
      "cell_type": "code",
      "metadata": {
        "id": "CIRZqu7joDup",
        "colab_type": "code",
        "outputId": "5093de57-f1c3-42f5-d3f7-58d053951923",
        "colab": {
          "base_uri": "https://localhost:8080/",
          "height": 82
        }
      },
      "source": [
        "#Visualizar datos\n",
        "\n",
        "fig = plt.figure(figsize=(30,30))\n",
        "print \n",
        "for i in range(data.shape[0]):\n",
        "    ax=fig.add_subplot(2,32,i+1)\n",
        "    plt.imshow(data[i].reshape(28,28), interpolation=\"nearest\", cmap = plt.cm.Greys_r)\n",
        "    \n",
        "    ax.set_xticklabels([])\n",
        "    ax.set_yticklabels([])"
      ],
      "execution_count": 0,
      "outputs": [
        {
          "output_type": "display_data",
          "data": {
            "image/png": "[encoded data removed]",
            "text/plain": [
              "<Figure size 2160x2160 with 8 Axes>"
            ]
          },
          "metadata": {
            "tags": []
          }
        }
      ]
    },
    {
      "cell_type": "code",
      "metadata": {
        "id": "ItnGMVI-lpXh",
        "colab_type": "code",
        "colab": {}
      },
      "source": [
        "\n",
        "data = data.reshape([-1, 28,28,1])\n",
        "data= data.astype('float32')"
      ],
      "execution_count": 0,
      "outputs": []
    },
    {
      "cell_type": "code",
      "metadata": {
        "id": "osXvp3oxggja",
        "colab_type": "code",
        "colab": {}
      },
      "source": [
        "y_pred = model_loaded.predict(x = data)\n",
        "prueba = np.argmax(y_pred, axis=1)"
      ],
      "execution_count": 0,
      "outputs": []
    },
    {
      "cell_type": "code",
      "metadata": {
        "id": "8U_KBbtYgggH",
        "colab_type": "code",
        "outputId": "a12ae2a5-5427-433a-85b1-3649de9746f8",
        "colab": {
          "base_uri": "https://localhost:8080/",
          "height": 35
        }
      },
      "source": [
        "caracteres=[]\n",
        "for i in range(len(prueba)):\n",
        "    \n",
        "            if prueba[i]==1:  \n",
        "               caracteres.append(\"A\")\n",
        "                     \n",
        "            elif prueba[i]==2:  \n",
        "              caracteres.append(\"B\")\n",
        "                     \n",
        "            elif prueba[i]==3:\n",
        "              caracteres.append(\"C\")\n",
        "                     \n",
        "            elif prueba[i]==4: \n",
        "              caracteres.append(\"D\")\n",
        "              \n",
        "            elif prueba[i]==5: \n",
        "              caracteres.append(\"E\")\n",
        "                     \n",
        "            elif prueba[i]==6:  \n",
        "              caracteres.append(\"F\")\n",
        "                     \n",
        "            elif prueba[i]==7: \n",
        "              caracteres.append(\"G\")\n",
        "                     \n",
        "            elif prueba[i]==8: \n",
        "              caracteres.append(\"H\")\n",
        "                     \n",
        "            elif prueba[i]==9:  \n",
        "              caracteres.append(\"I\")\n",
        "                     \n",
        "            elif prueba[i]==10:\n",
        "              caracteres.append(\"J\")\n",
        "                     \n",
        "            elif prueba[i]==11:\n",
        "              caracteres.append(\"K\")\n",
        "                     \n",
        "            elif prueba[i]==12:\n",
        "              caracteres.append(\"L\")\n",
        "                     \n",
        "            elif prueba[i]==13:\n",
        "              caracteres.append(\"M\")\n",
        "                     \n",
        "            elif prueba[i]==14:\n",
        "              caracteres.append(\"N\")\n",
        "                     \n",
        "            elif prueba[i]==15: \n",
        "              caracteres.append(\"O\")\n",
        "                     \n",
        "            elif prueba[i]==16:\n",
        "              caracteres.append(\"P\")\n",
        "                     \n",
        "            elif prueba[i]==17: \n",
        "              caracteres.append(\"Q\")\n",
        "                     \n",
        "            elif prueba[i]==18: \n",
        "              caracteres.append(\"R\")\n",
        "                     \n",
        "            elif prueba[i]==19: \n",
        "              caracteres.append(\"S\")\n",
        "                     \n",
        "            elif prueba[i]==20: \n",
        "              caracteres.append(\"T\")\n",
        "                     \n",
        "            elif prueba[i]==21: \n",
        "              caracteres.append(\"U\")\n",
        "                    \n",
        "            elif prueba[i]==22: \n",
        "              caracteres.append(\"V\")\n",
        "                     \n",
        "            elif prueba[i]==23: \n",
        "              caracteres.append(\"W\")\n",
        "                     \n",
        "            elif prueba[i]==24:\n",
        "              caracteres.append(\"X\")\n",
        "                     \n",
        "            elif prueba[i]==25: \n",
        "              caracteres.append(\"Y\")\n",
        "                     \n",
        "            elif prueba[i]==26: \n",
        "              caracteres.append(\"Z\")\n",
        "frase=\"\"\n",
        "frase= \"\".join([i for i in caracteres])\n",
        "print(frase)"
      ],
      "execution_count": 0,
      "outputs": [
        {
          "output_type": "stream",
          "text": [
            "RESEARCH\n"
          ],
          "name": "stdout"
        }
      ]
    },
    {
      "cell_type": "code",
      "metadata": {
        "id": "WQNxZaJqqINv",
        "colab_type": "code",
        "colab": {}
      },
      "source": [
        "def voz(frase, lang, nombre):\n",
        "    file = gTTS(text=frase,lang=lang ,slow = False)\n",
        "    file.save(nombre)\n",
        "nombre=frase+\".mp3\""
      ],
      "execution_count": 0,
      "outputs": []
    },
    {
      "cell_type": "code",
      "metadata": {
        "id": "mhrSrgLLpjih",
        "colab_type": "code",
        "colab": {}
      },
      "source": [
        "voz(frase, \"EN\",nombre)"
      ],
      "execution_count": 0,
      "outputs": []
    },
    {
      "cell_type": "code",
      "metadata": {
        "id": "LKBgBeIh3_IX",
        "colab_type": "code",
        "colab": {}
      },
      "source": [
        ""
      ],
      "execution_count": 0,
      "outputs": []
    }
  ]
}